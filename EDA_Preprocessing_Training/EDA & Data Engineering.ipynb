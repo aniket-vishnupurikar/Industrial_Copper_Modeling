{
 "cells": [
  {
   "cell_type": "code",
   "execution_count": 36,
   "id": "1ff9c851",
   "metadata": {},
   "outputs": [],
   "source": [
    "import numpy as np\n",
    "import pandas as pd\n",
    "import matplotlib.pyplot as plt\n",
    "import seaborn as sns\n",
    "from pickle import dump, load\n",
    "%matplotlib inline"
   ]
  },
  {
   "cell_type": "code",
   "execution_count": 37,
   "id": "611f057a",
   "metadata": {},
   "outputs": [
    {
     "name": "stderr",
     "output_type": "stream",
     "text": [
      "C:\\Users\\anike\\.conda\\envs\\tf_test\\lib\\site-packages\\IPython\\core\\interactiveshell.py:3072: DtypeWarning: Columns (2) have mixed types.Specify dtype option on import or set low_memory=False.\n",
      "  interactivity=interactivity, compiler=compiler, result=result)\n"
     ]
    }
   ],
   "source": [
    "df = pd.read_csv(\"Copper_Set.xlsx - Result 1.csv\")  "
   ]
  },
  {
   "cell_type": "code",
   "execution_count": 38,
   "id": "34b335f4",
   "metadata": {},
   "outputs": [
    {
     "data": {
      "text/html": [
       "<div>\n",
       "<style scoped>\n",
       "    .dataframe tbody tr th:only-of-type {\n",
       "        vertical-align: middle;\n",
       "    }\n",
       "\n",
       "    .dataframe tbody tr th {\n",
       "        vertical-align: top;\n",
       "    }\n",
       "\n",
       "    .dataframe thead th {\n",
       "        text-align: right;\n",
       "    }\n",
       "</style>\n",
       "<table border=\"1\" class=\"dataframe\">\n",
       "  <thead>\n",
       "    <tr style=\"text-align: right;\">\n",
       "      <th></th>\n",
       "      <th>id</th>\n",
       "      <th>item_date</th>\n",
       "      <th>quantity tons</th>\n",
       "      <th>customer</th>\n",
       "      <th>country</th>\n",
       "      <th>status</th>\n",
       "      <th>item type</th>\n",
       "      <th>application</th>\n",
       "      <th>thickness</th>\n",
       "      <th>width</th>\n",
       "      <th>material_ref</th>\n",
       "      <th>product_ref</th>\n",
       "      <th>delivery date</th>\n",
       "      <th>selling_price</th>\n",
       "    </tr>\n",
       "  </thead>\n",
       "  <tbody>\n",
       "    <tr>\n",
       "      <th>0</th>\n",
       "      <td>EC06F063-9DF0-440C-8764-0B0C05A4F6AE</td>\n",
       "      <td>20210401.0</td>\n",
       "      <td>54.1511</td>\n",
       "      <td>30156308.0</td>\n",
       "      <td>28.0</td>\n",
       "      <td>Won</td>\n",
       "      <td>W</td>\n",
       "      <td>10.0</td>\n",
       "      <td>2.00</td>\n",
       "      <td>1500.0</td>\n",
       "      <td>DEQ1 S460MC</td>\n",
       "      <td>1670798778</td>\n",
       "      <td>20210701.0</td>\n",
       "      <td>854.00</td>\n",
       "    </tr>\n",
       "    <tr>\n",
       "      <th>1</th>\n",
       "      <td>4E5F4B3D-DDDF-499D-AFDE-A3227EC49425</td>\n",
       "      <td>20210401.0</td>\n",
       "      <td>768.025</td>\n",
       "      <td>30202938.0</td>\n",
       "      <td>25.0</td>\n",
       "      <td>Won</td>\n",
       "      <td>W</td>\n",
       "      <td>41.0</td>\n",
       "      <td>0.80</td>\n",
       "      <td>1210.0</td>\n",
       "      <td>0000000000000000000000000000000000104991</td>\n",
       "      <td>1668701718</td>\n",
       "      <td>20210401.0</td>\n",
       "      <td>1047.00</td>\n",
       "    </tr>\n",
       "    <tr>\n",
       "      <th>2</th>\n",
       "      <td>E140FF1B-2407-4C02-A0DD-780A093B1158</td>\n",
       "      <td>20210401.0</td>\n",
       "      <td>386.128</td>\n",
       "      <td>30153963.0</td>\n",
       "      <td>30.0</td>\n",
       "      <td>Won</td>\n",
       "      <td>WI</td>\n",
       "      <td>28.0</td>\n",
       "      <td>0.38</td>\n",
       "      <td>952.0</td>\n",
       "      <td>S0380700</td>\n",
       "      <td>628377</td>\n",
       "      <td>20210101.0</td>\n",
       "      <td>644.33</td>\n",
       "    </tr>\n",
       "    <tr>\n",
       "      <th>3</th>\n",
       "      <td>F8D507A0-9C62-4EFE-831E-33E1DA53BB50</td>\n",
       "      <td>20210401.0</td>\n",
       "      <td>202.411</td>\n",
       "      <td>30349574.0</td>\n",
       "      <td>32.0</td>\n",
       "      <td>Won</td>\n",
       "      <td>S</td>\n",
       "      <td>59.0</td>\n",
       "      <td>2.30</td>\n",
       "      <td>1317.0</td>\n",
       "      <td>DX51D+ZM310MAO 2.3X1317</td>\n",
       "      <td>1668701718</td>\n",
       "      <td>20210101.0</td>\n",
       "      <td>768.00</td>\n",
       "    </tr>\n",
       "    <tr>\n",
       "      <th>4</th>\n",
       "      <td>4E1C4E78-152B-430A-8094-ADD889C9D0AD</td>\n",
       "      <td>20210401.0</td>\n",
       "      <td>785.526</td>\n",
       "      <td>30211560.0</td>\n",
       "      <td>28.0</td>\n",
       "      <td>Won</td>\n",
       "      <td>W</td>\n",
       "      <td>10.0</td>\n",
       "      <td>4.00</td>\n",
       "      <td>2000.0</td>\n",
       "      <td>2_S275JR+AR-CL1</td>\n",
       "      <td>640665</td>\n",
       "      <td>20210301.0</td>\n",
       "      <td>577.00</td>\n",
       "    </tr>\n",
       "  </tbody>\n",
       "</table>\n",
       "</div>"
      ],
      "text/plain": [
       "                                     id   item_date quantity tons    customer  \\\n",
       "0  EC06F063-9DF0-440C-8764-0B0C05A4F6AE  20210401.0       54.1511  30156308.0   \n",
       "1  4E5F4B3D-DDDF-499D-AFDE-A3227EC49425  20210401.0       768.025  30202938.0   \n",
       "2  E140FF1B-2407-4C02-A0DD-780A093B1158  20210401.0       386.128  30153963.0   \n",
       "3  F8D507A0-9C62-4EFE-831E-33E1DA53BB50  20210401.0       202.411  30349574.0   \n",
       "4  4E1C4E78-152B-430A-8094-ADD889C9D0AD  20210401.0       785.526  30211560.0   \n",
       "\n",
       "   country status item type  application  thickness   width  \\\n",
       "0     28.0    Won         W         10.0       2.00  1500.0   \n",
       "1     25.0    Won         W         41.0       0.80  1210.0   \n",
       "2     30.0    Won        WI         28.0       0.38   952.0   \n",
       "3     32.0    Won         S         59.0       2.30  1317.0   \n",
       "4     28.0    Won         W         10.0       4.00  2000.0   \n",
       "\n",
       "                               material_ref  product_ref  delivery date  \\\n",
       "0                               DEQ1 S460MC   1670798778     20210701.0   \n",
       "1  0000000000000000000000000000000000104991   1668701718     20210401.0   \n",
       "2                                  S0380700       628377     20210101.0   \n",
       "3                   DX51D+ZM310MAO 2.3X1317   1668701718     20210101.0   \n",
       "4                           2_S275JR+AR-CL1       640665     20210301.0   \n",
       "\n",
       "   selling_price  \n",
       "0         854.00  \n",
       "1        1047.00  \n",
       "2         644.33  \n",
       "3         768.00  \n",
       "4         577.00  "
      ]
     },
     "execution_count": 38,
     "metadata": {},
     "output_type": "execute_result"
    }
   ],
   "source": [
    "df.head()"
   ]
  },
  {
   "cell_type": "code",
   "execution_count": 39,
   "id": "f3231ebe",
   "metadata": {},
   "outputs": [
    {
     "name": "stdout",
     "output_type": "stream",
     "text": [
      "num rows:181673\n",
      "num cols:14\n"
     ]
    }
   ],
   "source": [
    "print(f\"num rows:{df.shape[0]}\\nnum cols:{df.shape[1]}\")"
   ]
  },
  {
   "cell_type": "code",
   "execution_count": 40,
   "id": "8a61cde7",
   "metadata": {},
   "outputs": [
    {
     "name": "stdout",
     "output_type": "stream",
     "text": [
      "<class 'pandas.core.frame.DataFrame'>\n",
      "RangeIndex: 181673 entries, 0 to 181672\n",
      "Data columns (total 14 columns):\n",
      " #   Column         Non-Null Count   Dtype  \n",
      "---  ------         --------------   -----  \n",
      " 0   id             181671 non-null  object \n",
      " 1   item_date      181672 non-null  float64\n",
      " 2   quantity tons  181673 non-null  object \n",
      " 3   customer       181672 non-null  float64\n",
      " 4   country        181645 non-null  float64\n",
      " 5   status         181671 non-null  object \n",
      " 6   item type      181673 non-null  object \n",
      " 7   application    181649 non-null  float64\n",
      " 8   thickness      181672 non-null  float64\n",
      " 9   width          181673 non-null  float64\n",
      " 10  material_ref   103754 non-null  object \n",
      " 11  product_ref    181673 non-null  int64  \n",
      " 12  delivery date  181672 non-null  float64\n",
      " 13  selling_price  181672 non-null  float64\n",
      "dtypes: float64(8), int64(1), object(5)\n",
      "memory usage: 19.4+ MB\n"
     ]
    }
   ],
   "source": [
    "df.info()"
   ]
  },
  {
   "cell_type": "code",
   "execution_count": 41,
   "id": "aafa17ac",
   "metadata": {},
   "outputs": [
    {
     "data": {
      "text/html": [
       "<div>\n",
       "<style scoped>\n",
       "    .dataframe tbody tr th:only-of-type {\n",
       "        vertical-align: middle;\n",
       "    }\n",
       "\n",
       "    .dataframe tbody tr th {\n",
       "        vertical-align: top;\n",
       "    }\n",
       "\n",
       "    .dataframe thead th {\n",
       "        text-align: right;\n",
       "    }\n",
       "</style>\n",
       "<table border=\"1\" class=\"dataframe\">\n",
       "  <thead>\n",
       "    <tr style=\"text-align: right;\">\n",
       "      <th></th>\n",
       "      <th>item_date</th>\n",
       "      <th>customer</th>\n",
       "      <th>country</th>\n",
       "      <th>application</th>\n",
       "      <th>thickness</th>\n",
       "      <th>width</th>\n",
       "      <th>product_ref</th>\n",
       "      <th>delivery date</th>\n",
       "      <th>selling_price</th>\n",
       "    </tr>\n",
       "  </thead>\n",
       "  <tbody>\n",
       "    <tr>\n",
       "      <th>count</th>\n",
       "      <td>1.816720e+05</td>\n",
       "      <td>1.816720e+05</td>\n",
       "      <td>181645.000000</td>\n",
       "      <td>181649.000000</td>\n",
       "      <td>181672.000000</td>\n",
       "      <td>181673.000000</td>\n",
       "      <td>1.816730e+05</td>\n",
       "      <td>1.816720e+05</td>\n",
       "      <td>1.816720e+05</td>\n",
       "    </tr>\n",
       "    <tr>\n",
       "      <th>mean</th>\n",
       "      <td>2.020459e+07</td>\n",
       "      <td>3.051221e+07</td>\n",
       "      <td>44.893022</td>\n",
       "      <td>25.615809</td>\n",
       "      <td>2.564827</td>\n",
       "      <td>1295.286724</td>\n",
       "      <td>4.739679e+08</td>\n",
       "      <td>2.020738e+07</td>\n",
       "      <td>1.918036e+03</td>\n",
       "    </tr>\n",
       "    <tr>\n",
       "      <th>std</th>\n",
       "      <td>4.551119e+03</td>\n",
       "      <td>2.433382e+07</td>\n",
       "      <td>24.404214</td>\n",
       "      <td>17.754175</td>\n",
       "      <td>6.572321</td>\n",
       "      <td>261.631754</td>\n",
       "      <td>7.175101e+08</td>\n",
       "      <td>2.411059e+04</td>\n",
       "      <td>3.317956e+05</td>\n",
       "    </tr>\n",
       "    <tr>\n",
       "      <th>min</th>\n",
       "      <td>1.995000e+07</td>\n",
       "      <td>1.245800e+04</td>\n",
       "      <td>25.000000</td>\n",
       "      <td>2.000000</td>\n",
       "      <td>0.180000</td>\n",
       "      <td>1.000000</td>\n",
       "      <td>6.117280e+05</td>\n",
       "      <td>2.019040e+07</td>\n",
       "      <td>-1.160000e+03</td>\n",
       "    </tr>\n",
       "    <tr>\n",
       "      <th>25%</th>\n",
       "      <td>2.020093e+07</td>\n",
       "      <td>3.019688e+07</td>\n",
       "      <td>26.000000</td>\n",
       "      <td>10.000000</td>\n",
       "      <td>0.700000</td>\n",
       "      <td>1180.000000</td>\n",
       "      <td>6.119930e+05</td>\n",
       "      <td>2.020110e+07</td>\n",
       "      <td>6.690000e+02</td>\n",
       "    </tr>\n",
       "    <tr>\n",
       "      <th>50%</th>\n",
       "      <td>2.020113e+07</td>\n",
       "      <td>3.020524e+07</td>\n",
       "      <td>30.000000</td>\n",
       "      <td>15.000000</td>\n",
       "      <td>1.500000</td>\n",
       "      <td>1250.000000</td>\n",
       "      <td>6.406650e+05</td>\n",
       "      <td>2.021010e+07</td>\n",
       "      <td>8.120000e+02</td>\n",
       "    </tr>\n",
       "    <tr>\n",
       "      <th>75%</th>\n",
       "      <td>2.021020e+07</td>\n",
       "      <td>3.028042e+07</td>\n",
       "      <td>78.000000</td>\n",
       "      <td>41.000000</td>\n",
       "      <td>3.000000</td>\n",
       "      <td>1500.000000</td>\n",
       "      <td>1.332077e+09</td>\n",
       "      <td>2.021040e+07</td>\n",
       "      <td>9.530000e+02</td>\n",
       "    </tr>\n",
       "    <tr>\n",
       "      <th>max</th>\n",
       "      <td>2.021040e+07</td>\n",
       "      <td>2.147484e+09</td>\n",
       "      <td>113.000000</td>\n",
       "      <td>99.000000</td>\n",
       "      <td>2500.000000</td>\n",
       "      <td>2990.000000</td>\n",
       "      <td>1.722208e+09</td>\n",
       "      <td>3.031010e+07</td>\n",
       "      <td>1.000010e+08</td>\n",
       "    </tr>\n",
       "  </tbody>\n",
       "</table>\n",
       "</div>"
      ],
      "text/plain": [
       "          item_date      customer        country    application  \\\n",
       "count  1.816720e+05  1.816720e+05  181645.000000  181649.000000   \n",
       "mean   2.020459e+07  3.051221e+07      44.893022      25.615809   \n",
       "std    4.551119e+03  2.433382e+07      24.404214      17.754175   \n",
       "min    1.995000e+07  1.245800e+04      25.000000       2.000000   \n",
       "25%    2.020093e+07  3.019688e+07      26.000000      10.000000   \n",
       "50%    2.020113e+07  3.020524e+07      30.000000      15.000000   \n",
       "75%    2.021020e+07  3.028042e+07      78.000000      41.000000   \n",
       "max    2.021040e+07  2.147484e+09     113.000000      99.000000   \n",
       "\n",
       "           thickness          width   product_ref  delivery date  \\\n",
       "count  181672.000000  181673.000000  1.816730e+05   1.816720e+05   \n",
       "mean        2.564827    1295.286724  4.739679e+08   2.020738e+07   \n",
       "std         6.572321     261.631754  7.175101e+08   2.411059e+04   \n",
       "min         0.180000       1.000000  6.117280e+05   2.019040e+07   \n",
       "25%         0.700000    1180.000000  6.119930e+05   2.020110e+07   \n",
       "50%         1.500000    1250.000000  6.406650e+05   2.021010e+07   \n",
       "75%         3.000000    1500.000000  1.332077e+09   2.021040e+07   \n",
       "max      2500.000000    2990.000000  1.722208e+09   3.031010e+07   \n",
       "\n",
       "       selling_price  \n",
       "count   1.816720e+05  \n",
       "mean    1.918036e+03  \n",
       "std     3.317956e+05  \n",
       "min    -1.160000e+03  \n",
       "25%     6.690000e+02  \n",
       "50%     8.120000e+02  \n",
       "75%     9.530000e+02  \n",
       "max     1.000010e+08  "
      ]
     },
     "execution_count": 41,
     "metadata": {},
     "output_type": "execute_result"
    }
   ],
   "source": [
    "df.describe()"
   ]
  },
  {
   "cell_type": "code",
   "execution_count": 42,
   "id": "e0cabb9a",
   "metadata": {},
   "outputs": [],
   "source": [
    "# Changing data frmats to correct data formats\n",
    "# df = df[df['status'].isin(['Won', 'Lost'])]\n",
    "df['item_date'] = pd.to_datetime(df['item_date'], format='%Y%m%d', errors='coerce').dt.date\n",
    "df['quantity tons'] = pd.to_numeric(df['quantity tons'], errors='coerce')\n",
    "df['customer'] = pd.to_numeric(df['customer'], errors='coerce')\n",
    "df['country'] = pd.to_numeric(df['country'], errors='coerce')\n",
    "df['application'] = pd.to_numeric(df['application'], errors='coerce')\n",
    "df['thickness'] = pd.to_numeric(df['thickness'], errors='coerce')\n",
    "df['width'] = pd.to_numeric(df['width'], errors='coerce')\n",
    "df['material_ref'] = df['material_ref'].str.lstrip('0')\n",
    "df['product_ref'] = pd.to_numeric(df['product_ref'], errors='coerce')\n",
    "df['delivery date'] = pd.to_datetime(df['delivery date'], format='%Y%m%d', errors='coerce').dt.date\n",
    "df['selling_price'] = pd.to_numeric(df['selling_price'], errors='coerce')\n"
   ]
  },
  {
   "cell_type": "code",
   "execution_count": 43,
   "id": "dc263dcb",
   "metadata": {},
   "outputs": [
    {
     "data": {
      "text/html": [
       "<div>\n",
       "<style scoped>\n",
       "    .dataframe tbody tr th:only-of-type {\n",
       "        vertical-align: middle;\n",
       "    }\n",
       "\n",
       "    .dataframe tbody tr th {\n",
       "        vertical-align: top;\n",
       "    }\n",
       "\n",
       "    .dataframe thead th {\n",
       "        text-align: right;\n",
       "    }\n",
       "</style>\n",
       "<table border=\"1\" class=\"dataframe\">\n",
       "  <thead>\n",
       "    <tr style=\"text-align: right;\">\n",
       "      <th></th>\n",
       "      <th>id</th>\n",
       "      <th>item_date</th>\n",
       "      <th>quantity tons</th>\n",
       "      <th>customer</th>\n",
       "      <th>country</th>\n",
       "      <th>status</th>\n",
       "      <th>item type</th>\n",
       "      <th>application</th>\n",
       "      <th>thickness</th>\n",
       "      <th>width</th>\n",
       "      <th>material_ref</th>\n",
       "      <th>product_ref</th>\n",
       "      <th>delivery date</th>\n",
       "      <th>selling_price</th>\n",
       "    </tr>\n",
       "  </thead>\n",
       "  <tbody>\n",
       "    <tr>\n",
       "      <th>0</th>\n",
       "      <td>EC06F063-9DF0-440C-8764-0B0C05A4F6AE</td>\n",
       "      <td>2021-04-01</td>\n",
       "      <td>54.151139</td>\n",
       "      <td>30156308.0</td>\n",
       "      <td>28.0</td>\n",
       "      <td>Won</td>\n",
       "      <td>W</td>\n",
       "      <td>10.0</td>\n",
       "      <td>2.00</td>\n",
       "      <td>1500.0</td>\n",
       "      <td>DEQ1 S460MC</td>\n",
       "      <td>1670798778</td>\n",
       "      <td>2021-07-01</td>\n",
       "      <td>854.00</td>\n",
       "    </tr>\n",
       "    <tr>\n",
       "      <th>1</th>\n",
       "      <td>4E5F4B3D-DDDF-499D-AFDE-A3227EC49425</td>\n",
       "      <td>2021-04-01</td>\n",
       "      <td>768.024839</td>\n",
       "      <td>30202938.0</td>\n",
       "      <td>25.0</td>\n",
       "      <td>Won</td>\n",
       "      <td>W</td>\n",
       "      <td>41.0</td>\n",
       "      <td>0.80</td>\n",
       "      <td>1210.0</td>\n",
       "      <td>104991</td>\n",
       "      <td>1668701718</td>\n",
       "      <td>2021-04-01</td>\n",
       "      <td>1047.00</td>\n",
       "    </tr>\n",
       "    <tr>\n",
       "      <th>2</th>\n",
       "      <td>E140FF1B-2407-4C02-A0DD-780A093B1158</td>\n",
       "      <td>2021-04-01</td>\n",
       "      <td>386.127949</td>\n",
       "      <td>30153963.0</td>\n",
       "      <td>30.0</td>\n",
       "      <td>Won</td>\n",
       "      <td>WI</td>\n",
       "      <td>28.0</td>\n",
       "      <td>0.38</td>\n",
       "      <td>952.0</td>\n",
       "      <td>S0380700</td>\n",
       "      <td>628377</td>\n",
       "      <td>2021-01-01</td>\n",
       "      <td>644.33</td>\n",
       "    </tr>\n",
       "    <tr>\n",
       "      <th>3</th>\n",
       "      <td>F8D507A0-9C62-4EFE-831E-33E1DA53BB50</td>\n",
       "      <td>2021-04-01</td>\n",
       "      <td>202.411065</td>\n",
       "      <td>30349574.0</td>\n",
       "      <td>32.0</td>\n",
       "      <td>Won</td>\n",
       "      <td>S</td>\n",
       "      <td>59.0</td>\n",
       "      <td>2.30</td>\n",
       "      <td>1317.0</td>\n",
       "      <td>DX51D+ZM310MAO 2.3X1317</td>\n",
       "      <td>1668701718</td>\n",
       "      <td>2021-01-01</td>\n",
       "      <td>768.00</td>\n",
       "    </tr>\n",
       "    <tr>\n",
       "      <th>4</th>\n",
       "      <td>4E1C4E78-152B-430A-8094-ADD889C9D0AD</td>\n",
       "      <td>2021-04-01</td>\n",
       "      <td>785.526262</td>\n",
       "      <td>30211560.0</td>\n",
       "      <td>28.0</td>\n",
       "      <td>Won</td>\n",
       "      <td>W</td>\n",
       "      <td>10.0</td>\n",
       "      <td>4.00</td>\n",
       "      <td>2000.0</td>\n",
       "      <td>2_S275JR+AR-CL1</td>\n",
       "      <td>640665</td>\n",
       "      <td>2021-03-01</td>\n",
       "      <td>577.00</td>\n",
       "    </tr>\n",
       "  </tbody>\n",
       "</table>\n",
       "</div>"
      ],
      "text/plain": [
       "                                     id   item_date  quantity tons  \\\n",
       "0  EC06F063-9DF0-440C-8764-0B0C05A4F6AE  2021-04-01      54.151139   \n",
       "1  4E5F4B3D-DDDF-499D-AFDE-A3227EC49425  2021-04-01     768.024839   \n",
       "2  E140FF1B-2407-4C02-A0DD-780A093B1158  2021-04-01     386.127949   \n",
       "3  F8D507A0-9C62-4EFE-831E-33E1DA53BB50  2021-04-01     202.411065   \n",
       "4  4E1C4E78-152B-430A-8094-ADD889C9D0AD  2021-04-01     785.526262   \n",
       "\n",
       "     customer  country status item type  application  thickness   width  \\\n",
       "0  30156308.0     28.0    Won         W         10.0       2.00  1500.0   \n",
       "1  30202938.0     25.0    Won         W         41.0       0.80  1210.0   \n",
       "2  30153963.0     30.0    Won        WI         28.0       0.38   952.0   \n",
       "3  30349574.0     32.0    Won         S         59.0       2.30  1317.0   \n",
       "4  30211560.0     28.0    Won         W         10.0       4.00  2000.0   \n",
       "\n",
       "              material_ref  product_ref delivery date  selling_price  \n",
       "0              DEQ1 S460MC   1670798778    2021-07-01         854.00  \n",
       "1                   104991   1668701718    2021-04-01        1047.00  \n",
       "2                 S0380700       628377    2021-01-01         644.33  \n",
       "3  DX51D+ZM310MAO 2.3X1317   1668701718    2021-01-01         768.00  \n",
       "4          2_S275JR+AR-CL1       640665    2021-03-01         577.00  "
      ]
     },
     "execution_count": 43,
     "metadata": {},
     "output_type": "execute_result"
    }
   ],
   "source": [
    "df.head()"
   ]
  },
  {
   "cell_type": "code",
   "execution_count": 44,
   "id": "6c8aa122",
   "metadata": {},
   "outputs": [
    {
     "name": "stdout",
     "output_type": "stream",
     "text": [
      "missing value count:\n",
      "id                   2\n",
      "item_date            3\n",
      "quantity tons        1\n",
      "customer             1\n",
      "country             28\n",
      "status               2\n",
      "item type            0\n",
      "application         24\n",
      "thickness            1\n",
      "width                0\n",
      "material_ref     77919\n",
      "product_ref          0\n",
      "delivery date        3\n",
      "selling_price        1\n",
      "dtype: int64\n",
      "missing value percentage:\n",
      "id                0.001101\n",
      "item_date         0.001651\n",
      "quantity tons     0.000550\n",
      "customer          0.000550\n",
      "country           0.015412\n",
      "status            0.001101\n",
      "item type         0.000000\n",
      "application       0.013211\n",
      "thickness         0.000550\n",
      "width             0.000000\n",
      "material_ref     42.889697\n",
      "product_ref       0.000000\n",
      "delivery date     0.001651\n",
      "selling_price     0.000550\n",
      "dtype: float64\n"
     ]
    }
   ],
   "source": [
    "missing_values_count = df.isnull().sum()\n",
    "print(f\"missing value count:\\n{missing_values_count}\\nmissing value percentage:\\n{missing_values_count/df.shape[0]*100}\")"
   ]
  },
  {
   "cell_type": "code",
   "execution_count": 45,
   "id": "ed5cebf3",
   "metadata": {},
   "outputs": [
    {
     "data": {
      "text/plain": [
       "16562"
      ]
     },
     "execution_count": 45,
     "metadata": {},
     "output_type": "execute_result"
    }
   ],
   "source": [
    "df[\"material_ref\"].nunique()"
   ]
  },
  {
   "cell_type": "code",
   "execution_count": 46,
   "id": "a5a5aeac",
   "metadata": {},
   "outputs": [
    {
     "data": {
      "text/plain": [
       "array(['DEQ1 S460MC', '104991', 'S0380700', ..., 'MAS65550',\n",
       "       '4.11043_1060X5_BRE', '202006170005.IO.1.1'], dtype=object)"
      ]
     },
     "execution_count": 46,
     "metadata": {},
     "output_type": "execute_result"
    }
   ],
   "source": [
    "df[\"material_ref\"].unique()"
   ]
  },
  {
   "cell_type": "code",
   "execution_count": 47,
   "id": "58df093f",
   "metadata": {},
   "outputs": [],
   "source": [
    "# material_ref has large set of null values, so replacing them with unknown \n",
    "df['material_ref'].fillna('unknown', inplace=True)\n",
    "# deleting the remaining null values as they are less than 1% of data which can be neglected\n",
    "df = df.dropna()"
   ]
  },
  {
   "cell_type": "code",
   "execution_count": 48,
   "id": "9b5fbd1f",
   "metadata": {},
   "outputs": [
    {
     "name": "stdout",
     "output_type": "stream",
     "text": [
      "missing value count:\n",
      "id               0\n",
      "item_date        0\n",
      "quantity tons    0\n",
      "customer         0\n",
      "country          0\n",
      "status           0\n",
      "item type        0\n",
      "application      0\n",
      "thickness        0\n",
      "width            0\n",
      "material_ref     0\n",
      "product_ref      0\n",
      "delivery date    0\n",
      "selling_price    0\n",
      "dtype: int64\n",
      "missing value percentage:\n",
      "id               0.0\n",
      "item_date        0.0\n",
      "quantity tons    0.0\n",
      "customer         0.0\n",
      "country          0.0\n",
      "status           0.0\n",
      "item type        0.0\n",
      "application      0.0\n",
      "thickness        0.0\n",
      "width            0.0\n",
      "material_ref     0.0\n",
      "product_ref      0.0\n",
      "delivery date    0.0\n",
      "selling_price    0.0\n",
      "dtype: float64\n"
     ]
    }
   ],
   "source": [
    "missing_values_count = df.isnull().sum()\n",
    "print(f\"missing value count:\\n{missing_values_count}\\nmissing value percentage:\\n{missing_values_count/df.shape[0]*100}\")"
   ]
  },
  {
   "cell_type": "code",
   "execution_count": 50,
   "id": "249ec2ea",
   "metadata": {},
   "outputs": [
    {
     "data": {
      "text/html": [
       "<div>\n",
       "<style scoped>\n",
       "    .dataframe tbody tr th:only-of-type {\n",
       "        vertical-align: middle;\n",
       "    }\n",
       "\n",
       "    .dataframe tbody tr th {\n",
       "        vertical-align: top;\n",
       "    }\n",
       "\n",
       "    .dataframe thead th {\n",
       "        text-align: right;\n",
       "    }\n",
       "</style>\n",
       "<table border=\"1\" class=\"dataframe\">\n",
       "  <thead>\n",
       "    <tr style=\"text-align: right;\">\n",
       "      <th></th>\n",
       "      <th>id</th>\n",
       "      <th>item_date</th>\n",
       "      <th>quantity tons</th>\n",
       "      <th>customer</th>\n",
       "      <th>country</th>\n",
       "      <th>status</th>\n",
       "      <th>item type</th>\n",
       "      <th>application</th>\n",
       "      <th>thickness</th>\n",
       "      <th>width</th>\n",
       "      <th>material_ref</th>\n",
       "      <th>product_ref</th>\n",
       "      <th>delivery date</th>\n",
       "      <th>selling_price</th>\n",
       "    </tr>\n",
       "  </thead>\n",
       "  <tbody>\n",
       "    <tr>\n",
       "      <th>171</th>\n",
       "      <td>C0BF3187-C4B3-4C63-ABDB-FCB0642A69C0</td>\n",
       "      <td>2021-04-01</td>\n",
       "      <td>8.718789</td>\n",
       "      <td>30223403.0</td>\n",
       "      <td>78.0</td>\n",
       "      <td>Lost</td>\n",
       "      <td>W</td>\n",
       "      <td>10.0</td>\n",
       "      <td>1.00</td>\n",
       "      <td>1500.0</td>\n",
       "      <td>unknown</td>\n",
       "      <td>1668701718</td>\n",
       "      <td>2021-07-01</td>\n",
       "      <td>1253.0</td>\n",
       "    </tr>\n",
       "    <tr>\n",
       "      <th>174</th>\n",
       "      <td>66D8E20C-AF4A-47D7-8FDD-51DEA6EA1F05</td>\n",
       "      <td>2021-04-01</td>\n",
       "      <td>39.553513</td>\n",
       "      <td>30165992.0</td>\n",
       "      <td>77.0</td>\n",
       "      <td>Lost</td>\n",
       "      <td>S</td>\n",
       "      <td>10.0</td>\n",
       "      <td>1.00</td>\n",
       "      <td>1500.0</td>\n",
       "      <td>FZPA004640</td>\n",
       "      <td>164141591</td>\n",
       "      <td>2021-08-01</td>\n",
       "      <td>1225.0</td>\n",
       "    </tr>\n",
       "    <tr>\n",
       "      <th>175</th>\n",
       "      <td>4532B5EF-0446-4880-BC8E-242E89AB8DD6</td>\n",
       "      <td>2021-04-01</td>\n",
       "      <td>11.454558</td>\n",
       "      <td>30223403.0</td>\n",
       "      <td>78.0</td>\n",
       "      <td>Lost</td>\n",
       "      <td>W</td>\n",
       "      <td>10.0</td>\n",
       "      <td>4.00</td>\n",
       "      <td>1500.0</td>\n",
       "      <td>unknown</td>\n",
       "      <td>1668701718</td>\n",
       "      <td>2021-07-01</td>\n",
       "      <td>1186.0</td>\n",
       "    </tr>\n",
       "    <tr>\n",
       "      <th>176</th>\n",
       "      <td>EE0BA8DE-38E9-4101-ADF9-B7B5B19A3525</td>\n",
       "      <td>2021-04-01</td>\n",
       "      <td>37.655526</td>\n",
       "      <td>30165992.0</td>\n",
       "      <td>77.0</td>\n",
       "      <td>Lost</td>\n",
       "      <td>S</td>\n",
       "      <td>10.0</td>\n",
       "      <td>0.80</td>\n",
       "      <td>1250.0</td>\n",
       "      <td>FZPA004640</td>\n",
       "      <td>164141591</td>\n",
       "      <td>2021-08-01</td>\n",
       "      <td>1249.0</td>\n",
       "    </tr>\n",
       "    <tr>\n",
       "      <th>179</th>\n",
       "      <td>1CDD04C3-6310-431F-B10A-F1C6B4F529DD</td>\n",
       "      <td>2021-04-01</td>\n",
       "      <td>10.291602</td>\n",
       "      <td>30223403.0</td>\n",
       "      <td>78.0</td>\n",
       "      <td>Lost</td>\n",
       "      <td>W</td>\n",
       "      <td>10.0</td>\n",
       "      <td>0.80</td>\n",
       "      <td>1500.0</td>\n",
       "      <td>unknown</td>\n",
       "      <td>1668701718</td>\n",
       "      <td>2021-07-01</td>\n",
       "      <td>1284.0</td>\n",
       "    </tr>\n",
       "    <tr>\n",
       "      <th>...</th>\n",
       "      <td>...</td>\n",
       "      <td>...</td>\n",
       "      <td>...</td>\n",
       "      <td>...</td>\n",
       "      <td>...</td>\n",
       "      <td>...</td>\n",
       "      <td>...</td>\n",
       "      <td>...</td>\n",
       "      <td>...</td>\n",
       "      <td>...</td>\n",
       "      <td>...</td>\n",
       "      <td>...</td>\n",
       "      <td>...</td>\n",
       "      <td>...</td>\n",
       "    </tr>\n",
       "    <tr>\n",
       "      <th>181527</th>\n",
       "      <td>A30A09D6-6527-4BE3-B2EC-B795F94A70DD</td>\n",
       "      <td>2020-07-02</td>\n",
       "      <td>63.859521</td>\n",
       "      <td>30161559.0</td>\n",
       "      <td>30.0</td>\n",
       "      <td>Lost</td>\n",
       "      <td>S</td>\n",
       "      <td>10.0</td>\n",
       "      <td>5.85</td>\n",
       "      <td>1525.0</td>\n",
       "      <td>unknown</td>\n",
       "      <td>640665</td>\n",
       "      <td>2020-08-01</td>\n",
       "      <td>457.0</td>\n",
       "    </tr>\n",
       "    <tr>\n",
       "      <th>181529</th>\n",
       "      <td>BD9B7299-6FD2-4A9F-B336-5F677794A03F</td>\n",
       "      <td>2020-07-02</td>\n",
       "      <td>56.028562</td>\n",
       "      <td>30161559.0</td>\n",
       "      <td>30.0</td>\n",
       "      <td>Lost</td>\n",
       "      <td>S</td>\n",
       "      <td>10.0</td>\n",
       "      <td>7.85</td>\n",
       "      <td>1500.0</td>\n",
       "      <td>unknown</td>\n",
       "      <td>640665</td>\n",
       "      <td>2020-08-01</td>\n",
       "      <td>458.0</td>\n",
       "    </tr>\n",
       "    <tr>\n",
       "      <th>181531</th>\n",
       "      <td>BF93A919-5970-428F-9467-7A2D0573C5C6</td>\n",
       "      <td>2020-07-02</td>\n",
       "      <td>206.224110</td>\n",
       "      <td>30161559.0</td>\n",
       "      <td>30.0</td>\n",
       "      <td>Lost</td>\n",
       "      <td>S</td>\n",
       "      <td>10.0</td>\n",
       "      <td>3.85</td>\n",
       "      <td>1830.0</td>\n",
       "      <td>unknown</td>\n",
       "      <td>640665</td>\n",
       "      <td>2020-08-01</td>\n",
       "      <td>460.0</td>\n",
       "    </tr>\n",
       "    <tr>\n",
       "      <th>181533</th>\n",
       "      <td>FA54AED7-360E-4DED-96AA-F69D127267B8</td>\n",
       "      <td>2020-07-02</td>\n",
       "      <td>102.993849</td>\n",
       "      <td>30198408.0</td>\n",
       "      <td>25.0</td>\n",
       "      <td>Lost</td>\n",
       "      <td>S</td>\n",
       "      <td>10.0</td>\n",
       "      <td>1.40</td>\n",
       "      <td>1150.0</td>\n",
       "      <td>unknown</td>\n",
       "      <td>1668701718</td>\n",
       "      <td>2020-07-01</td>\n",
       "      <td>725.0</td>\n",
       "    </tr>\n",
       "    <tr>\n",
       "      <th>181535</th>\n",
       "      <td>2D65F26A-E56A-4FF4-B586-6E361980EE0A</td>\n",
       "      <td>2020-07-02</td>\n",
       "      <td>106.072262</td>\n",
       "      <td>30198408.0</td>\n",
       "      <td>25.0</td>\n",
       "      <td>Lost</td>\n",
       "      <td>S</td>\n",
       "      <td>10.0</td>\n",
       "      <td>1.40</td>\n",
       "      <td>1146.0</td>\n",
       "      <td>unknown</td>\n",
       "      <td>1668701718</td>\n",
       "      <td>2020-07-01</td>\n",
       "      <td>727.0</td>\n",
       "    </tr>\n",
       "  </tbody>\n",
       "</table>\n",
       "<p>34431 rows × 14 columns</p>\n",
       "</div>"
      ],
      "text/plain": [
       "                                          id   item_date  quantity tons  \\\n",
       "171     C0BF3187-C4B3-4C63-ABDB-FCB0642A69C0  2021-04-01       8.718789   \n",
       "174     66D8E20C-AF4A-47D7-8FDD-51DEA6EA1F05  2021-04-01      39.553513   \n",
       "175     4532B5EF-0446-4880-BC8E-242E89AB8DD6  2021-04-01      11.454558   \n",
       "176     EE0BA8DE-38E9-4101-ADF9-B7B5B19A3525  2021-04-01      37.655526   \n",
       "179     1CDD04C3-6310-431F-B10A-F1C6B4F529DD  2021-04-01      10.291602   \n",
       "...                                      ...         ...            ...   \n",
       "181527  A30A09D6-6527-4BE3-B2EC-B795F94A70DD  2020-07-02      63.859521   \n",
       "181529  BD9B7299-6FD2-4A9F-B336-5F677794A03F  2020-07-02      56.028562   \n",
       "181531  BF93A919-5970-428F-9467-7A2D0573C5C6  2020-07-02     206.224110   \n",
       "181533  FA54AED7-360E-4DED-96AA-F69D127267B8  2020-07-02     102.993849   \n",
       "181535  2D65F26A-E56A-4FF4-B586-6E361980EE0A  2020-07-02     106.072262   \n",
       "\n",
       "          customer  country status item type  application  thickness   width  \\\n",
       "171     30223403.0     78.0   Lost         W         10.0       1.00  1500.0   \n",
       "174     30165992.0     77.0   Lost         S         10.0       1.00  1500.0   \n",
       "175     30223403.0     78.0   Lost         W         10.0       4.00  1500.0   \n",
       "176     30165992.0     77.0   Lost         S         10.0       0.80  1250.0   \n",
       "179     30223403.0     78.0   Lost         W         10.0       0.80  1500.0   \n",
       "...            ...      ...    ...       ...          ...        ...     ...   \n",
       "181527  30161559.0     30.0   Lost         S         10.0       5.85  1525.0   \n",
       "181529  30161559.0     30.0   Lost         S         10.0       7.85  1500.0   \n",
       "181531  30161559.0     30.0   Lost         S         10.0       3.85  1830.0   \n",
       "181533  30198408.0     25.0   Lost         S         10.0       1.40  1150.0   \n",
       "181535  30198408.0     25.0   Lost         S         10.0       1.40  1146.0   \n",
       "\n",
       "       material_ref  product_ref delivery date  selling_price  \n",
       "171         unknown   1668701718    2021-07-01         1253.0  \n",
       "174      FZPA004640    164141591    2021-08-01         1225.0  \n",
       "175         unknown   1668701718    2021-07-01         1186.0  \n",
       "176      FZPA004640    164141591    2021-08-01         1249.0  \n",
       "179         unknown   1668701718    2021-07-01         1284.0  \n",
       "...             ...          ...           ...            ...  \n",
       "181527      unknown       640665    2020-08-01          457.0  \n",
       "181529      unknown       640665    2020-08-01          458.0  \n",
       "181531      unknown       640665    2020-08-01          460.0  \n",
       "181533      unknown   1668701718    2020-07-01          725.0  \n",
       "181535      unknown   1668701718    2020-07-01          727.0  \n",
       "\n",
       "[34431 rows x 14 columns]"
      ]
     },
     "execution_count": 50,
     "metadata": {},
     "output_type": "execute_result"
    }
   ],
   "source": [
    "df[df[\"status\"] == \"Lost\"]"
   ]
  },
  {
   "cell_type": "code",
   "execution_count": 25,
   "id": "801e98ed",
   "metadata": {},
   "outputs": [],
   "source": [
    "df.to_csv(\"copper cleaned data.csv\")"
   ]
  },
  {
   "cell_type": "code",
   "execution_count": 35,
   "id": "48f83e7c",
   "metadata": {},
   "outputs": [
    {
     "data": {
      "text/html": [
       "<div>\n",
       "<style scoped>\n",
       "    .dataframe tbody tr th:only-of-type {\n",
       "        vertical-align: middle;\n",
       "    }\n",
       "\n",
       "    .dataframe tbody tr th {\n",
       "        vertical-align: top;\n",
       "    }\n",
       "\n",
       "    .dataframe thead th {\n",
       "        text-align: right;\n",
       "    }\n",
       "</style>\n",
       "<table border=\"1\" class=\"dataframe\">\n",
       "  <thead>\n",
       "    <tr style=\"text-align: right;\">\n",
       "      <th></th>\n",
       "      <th>id</th>\n",
       "      <th>item_date</th>\n",
       "      <th>quantity tons</th>\n",
       "      <th>customer</th>\n",
       "      <th>country</th>\n",
       "      <th>status</th>\n",
       "      <th>item type</th>\n",
       "      <th>application</th>\n",
       "      <th>thickness</th>\n",
       "      <th>width</th>\n",
       "      <th>material_ref</th>\n",
       "      <th>product_ref</th>\n",
       "      <th>delivery date</th>\n",
       "      <th>selling_price</th>\n",
       "    </tr>\n",
       "  </thead>\n",
       "  <tbody>\n",
       "    <tr>\n",
       "      <th>0</th>\n",
       "      <td>EC06F063-9DF0-440C-8764-0B0C05A4F6AE</td>\n",
       "      <td>2021-04-01</td>\n",
       "      <td>54.151139</td>\n",
       "      <td>30156308.0</td>\n",
       "      <td>28.0</td>\n",
       "      <td>Lost</td>\n",
       "      <td>W</td>\n",
       "      <td>10.0</td>\n",
       "      <td>2.00</td>\n",
       "      <td>1500.0</td>\n",
       "      <td>DEQ1 S460MC</td>\n",
       "      <td>1670798778</td>\n",
       "      <td>2021-07-01</td>\n",
       "      <td>854.00</td>\n",
       "    </tr>\n",
       "    <tr>\n",
       "      <th>1</th>\n",
       "      <td>4E5F4B3D-DDDF-499D-AFDE-A3227EC49425</td>\n",
       "      <td>2021-04-01</td>\n",
       "      <td>768.024839</td>\n",
       "      <td>30202938.0</td>\n",
       "      <td>25.0</td>\n",
       "      <td>Lost</td>\n",
       "      <td>W</td>\n",
       "      <td>41.0</td>\n",
       "      <td>0.80</td>\n",
       "      <td>1210.0</td>\n",
       "      <td>104991</td>\n",
       "      <td>1668701718</td>\n",
       "      <td>2021-04-01</td>\n",
       "      <td>1047.00</td>\n",
       "    </tr>\n",
       "    <tr>\n",
       "      <th>2</th>\n",
       "      <td>E140FF1B-2407-4C02-A0DD-780A093B1158</td>\n",
       "      <td>2021-04-01</td>\n",
       "      <td>386.127949</td>\n",
       "      <td>30153963.0</td>\n",
       "      <td>30.0</td>\n",
       "      <td>Lost</td>\n",
       "      <td>WI</td>\n",
       "      <td>28.0</td>\n",
       "      <td>0.38</td>\n",
       "      <td>952.0</td>\n",
       "      <td>S0380700</td>\n",
       "      <td>628377</td>\n",
       "      <td>2021-01-01</td>\n",
       "      <td>644.33</td>\n",
       "    </tr>\n",
       "    <tr>\n",
       "      <th>3</th>\n",
       "      <td>F8D507A0-9C62-4EFE-831E-33E1DA53BB50</td>\n",
       "      <td>2021-04-01</td>\n",
       "      <td>202.411065</td>\n",
       "      <td>30349574.0</td>\n",
       "      <td>32.0</td>\n",
       "      <td>Lost</td>\n",
       "      <td>S</td>\n",
       "      <td>59.0</td>\n",
       "      <td>2.30</td>\n",
       "      <td>1317.0</td>\n",
       "      <td>DX51D+ZM310MAO 2.3X1317</td>\n",
       "      <td>1668701718</td>\n",
       "      <td>2021-01-01</td>\n",
       "      <td>768.00</td>\n",
       "    </tr>\n",
       "    <tr>\n",
       "      <th>4</th>\n",
       "      <td>4E1C4E78-152B-430A-8094-ADD889C9D0AD</td>\n",
       "      <td>2021-04-01</td>\n",
       "      <td>785.526262</td>\n",
       "      <td>30211560.0</td>\n",
       "      <td>28.0</td>\n",
       "      <td>Lost</td>\n",
       "      <td>W</td>\n",
       "      <td>10.0</td>\n",
       "      <td>4.00</td>\n",
       "      <td>2000.0</td>\n",
       "      <td>2_S275JR+AR-CL1</td>\n",
       "      <td>640665</td>\n",
       "      <td>2021-03-01</td>\n",
       "      <td>577.00</td>\n",
       "    </tr>\n",
       "    <tr>\n",
       "      <th>...</th>\n",
       "      <td>...</td>\n",
       "      <td>...</td>\n",
       "      <td>...</td>\n",
       "      <td>...</td>\n",
       "      <td>...</td>\n",
       "      <td>...</td>\n",
       "      <td>...</td>\n",
       "      <td>...</td>\n",
       "      <td>...</td>\n",
       "      <td>...</td>\n",
       "      <td>...</td>\n",
       "      <td>...</td>\n",
       "      <td>...</td>\n",
       "      <td>...</td>\n",
       "    </tr>\n",
       "    <tr>\n",
       "      <th>181668</th>\n",
       "      <td>DE633116-D1DF-4846-982E-55EFC3658A76</td>\n",
       "      <td>2020-07-02</td>\n",
       "      <td>102.482422</td>\n",
       "      <td>30200854.0</td>\n",
       "      <td>25.0</td>\n",
       "      <td>Lost</td>\n",
       "      <td>W</td>\n",
       "      <td>41.0</td>\n",
       "      <td>0.96</td>\n",
       "      <td>1220.0</td>\n",
       "      <td>1000777</td>\n",
       "      <td>164141591</td>\n",
       "      <td>2020-07-01</td>\n",
       "      <td>591.00</td>\n",
       "    </tr>\n",
       "    <tr>\n",
       "      <th>181669</th>\n",
       "      <td>A48374B1-E6DB-45F2-889A-1F9C27C099EB</td>\n",
       "      <td>2020-07-02</td>\n",
       "      <td>208.086469</td>\n",
       "      <td>30200854.0</td>\n",
       "      <td>25.0</td>\n",
       "      <td>Lost</td>\n",
       "      <td>W</td>\n",
       "      <td>41.0</td>\n",
       "      <td>0.95</td>\n",
       "      <td>1500.0</td>\n",
       "      <td>1000227</td>\n",
       "      <td>164141591</td>\n",
       "      <td>2020-07-01</td>\n",
       "      <td>589.00</td>\n",
       "    </tr>\n",
       "    <tr>\n",
       "      <th>181670</th>\n",
       "      <td>91643238-5C7B-4237-9A5F-63AE3D35F320</td>\n",
       "      <td>2020-07-02</td>\n",
       "      <td>4.235594</td>\n",
       "      <td>30200854.0</td>\n",
       "      <td>25.0</td>\n",
       "      <td>Lost</td>\n",
       "      <td>W</td>\n",
       "      <td>41.0</td>\n",
       "      <td>0.71</td>\n",
       "      <td>1250.0</td>\n",
       "      <td>1004216</td>\n",
       "      <td>164141591</td>\n",
       "      <td>2020-07-01</td>\n",
       "      <td>619.00</td>\n",
       "    </tr>\n",
       "    <tr>\n",
       "      <th>181671</th>\n",
       "      <td>7AFFD323-01D9-4E15-B80D-7D1B03498FC8</td>\n",
       "      <td>2020-07-02</td>\n",
       "      <td>-2000.000000</td>\n",
       "      <td>30200854.0</td>\n",
       "      <td>25.0</td>\n",
       "      <td>Lost</td>\n",
       "      <td>W</td>\n",
       "      <td>41.0</td>\n",
       "      <td>0.85</td>\n",
       "      <td>1250.0</td>\n",
       "      <td>1001149</td>\n",
       "      <td>164141591</td>\n",
       "      <td>2020-07-01</td>\n",
       "      <td>601.00</td>\n",
       "    </tr>\n",
       "    <tr>\n",
       "      <th>181672</th>\n",
       "      <td>AD0CA853-AE3C-4B2F-9FBB-8B0B965F84BC</td>\n",
       "      <td>2020-07-02</td>\n",
       "      <td>406.686538</td>\n",
       "      <td>30200854.0</td>\n",
       "      <td>25.0</td>\n",
       "      <td>Lost</td>\n",
       "      <td>W</td>\n",
       "      <td>41.0</td>\n",
       "      <td>0.71</td>\n",
       "      <td>1240.0</td>\n",
       "      <td>1005439</td>\n",
       "      <td>164141591</td>\n",
       "      <td>2020-07-01</td>\n",
       "      <td>607.00</td>\n",
       "    </tr>\n",
       "  </tbody>\n",
       "</table>\n",
       "<p>181631 rows × 14 columns</p>\n",
       "</div>"
      ],
      "text/plain": [
       "                                          id   item_date  quantity tons  \\\n",
       "0       EC06F063-9DF0-440C-8764-0B0C05A4F6AE  2021-04-01      54.151139   \n",
       "1       4E5F4B3D-DDDF-499D-AFDE-A3227EC49425  2021-04-01     768.024839   \n",
       "2       E140FF1B-2407-4C02-A0DD-780A093B1158  2021-04-01     386.127949   \n",
       "3       F8D507A0-9C62-4EFE-831E-33E1DA53BB50  2021-04-01     202.411065   \n",
       "4       4E1C4E78-152B-430A-8094-ADD889C9D0AD  2021-04-01     785.526262   \n",
       "...                                      ...         ...            ...   \n",
       "181668  DE633116-D1DF-4846-982E-55EFC3658A76  2020-07-02     102.482422   \n",
       "181669  A48374B1-E6DB-45F2-889A-1F9C27C099EB  2020-07-02     208.086469   \n",
       "181670  91643238-5C7B-4237-9A5F-63AE3D35F320  2020-07-02       4.235594   \n",
       "181671  7AFFD323-01D9-4E15-B80D-7D1B03498FC8  2020-07-02   -2000.000000   \n",
       "181672  AD0CA853-AE3C-4B2F-9FBB-8B0B965F84BC  2020-07-02     406.686538   \n",
       "\n",
       "          customer  country status item type  application  thickness   width  \\\n",
       "0       30156308.0     28.0   Lost         W         10.0       2.00  1500.0   \n",
       "1       30202938.0     25.0   Lost         W         41.0       0.80  1210.0   \n",
       "2       30153963.0     30.0   Lost        WI         28.0       0.38   952.0   \n",
       "3       30349574.0     32.0   Lost         S         59.0       2.30  1317.0   \n",
       "4       30211560.0     28.0   Lost         W         10.0       4.00  2000.0   \n",
       "...            ...      ...    ...       ...          ...        ...     ...   \n",
       "181668  30200854.0     25.0   Lost         W         41.0       0.96  1220.0   \n",
       "181669  30200854.0     25.0   Lost         W         41.0       0.95  1500.0   \n",
       "181670  30200854.0     25.0   Lost         W         41.0       0.71  1250.0   \n",
       "181671  30200854.0     25.0   Lost         W         41.0       0.85  1250.0   \n",
       "181672  30200854.0     25.0   Lost         W         41.0       0.71  1240.0   \n",
       "\n",
       "                   material_ref  product_ref delivery date  selling_price  \n",
       "0                   DEQ1 S460MC   1670798778    2021-07-01         854.00  \n",
       "1                        104991   1668701718    2021-04-01        1047.00  \n",
       "2                      S0380700       628377    2021-01-01         644.33  \n",
       "3       DX51D+ZM310MAO 2.3X1317   1668701718    2021-01-01         768.00  \n",
       "4               2_S275JR+AR-CL1       640665    2021-03-01         577.00  \n",
       "...                         ...          ...           ...            ...  \n",
       "181668                  1000777    164141591    2020-07-01         591.00  \n",
       "181669                  1000227    164141591    2020-07-01         589.00  \n",
       "181670                  1004216    164141591    2020-07-01         619.00  \n",
       "181671                  1001149    164141591    2020-07-01         601.00  \n",
       "181672                  1005439    164141591    2020-07-01         607.00  \n",
       "\n",
       "[181631 rows x 14 columns]"
      ]
     },
     "execution_count": 35,
     "metadata": {},
     "output_type": "execute_result"
    }
   ],
   "source": [
    "df"
   ]
  },
  {
   "cell_type": "markdown",
   "id": "4361f595",
   "metadata": {},
   "source": [
    "# Univariate Analysis"
   ]
  },
  {
   "cell_type": "code",
   "execution_count": 14,
   "id": "09974561",
   "metadata": {},
   "outputs": [],
   "source": [
    "columns = df.columns"
   ]
  },
  {
   "cell_type": "code",
   "execution_count": 15,
   "id": "60561712",
   "metadata": {},
   "outputs": [
    {
     "name": "stdout",
     "output_type": "stream",
     "text": [
      "id has 181631 unique values\n",
      "item_date has 250 unique values\n",
      "quantity tons has 181631 unique values\n",
      "customer has 1167 unique values\n",
      "country has 17 unique values\n",
      "status has 9 unique values\n",
      "item type has 7 unique values\n",
      "application has 30 unique values\n",
      "thickness has 594 unique values\n",
      "width has 1386 unique values\n",
      "material_ref has 16563 unique values\n",
      "product_ref has 33 unique values\n",
      "delivery date has 26 unique values\n",
      "selling_price has 9795 unique values\n"
     ]
    }
   ],
   "source": [
    "for column in columns:\n",
    "    print(f\"{column} has {df[column].nunique()} unique values\")"
   ]
  },
  {
   "cell_type": "markdown",
   "id": "62aba284",
   "metadata": {},
   "source": [
    "quantity tons, application, thickness, width, selling_price can be considered as continuous variables"
   ]
  },
  {
   "cell_type": "markdown",
   "id": "17f803e9",
   "metadata": {},
   "source": [
    "## quantity tons"
   ]
  },
  {
   "cell_type": "code",
   "execution_count": 16,
   "id": "8663b9ff",
   "metadata": {},
   "outputs": [
    {
     "name": "stderr",
     "output_type": "stream",
     "text": [
      "C:\\Users\\anike\\.conda\\envs\\tf_test\\lib\\site-packages\\seaborn\\distributions.py:2619: FutureWarning: `distplot` is a deprecated function and will be removed in a future version. Please adapt your code to use either `displot` (a figure-level function with similar flexibility) or `kdeplot` (an axes-level function for kernel density plots).\n",
      "  warnings.warn(msg, FutureWarning)\n",
      "C:\\Users\\anike\\.conda\\envs\\tf_test\\lib\\site-packages\\seaborn\\_decorators.py:43: FutureWarning: Pass the following variable as a keyword arg: x. From version 0.12, the only valid positional argument will be `data`, and passing other arguments without an explicit keyword will result in an error or misinterpretation.\n",
      "  FutureWarning\n"
     ]
    },
    {
     "data": {
      "text/plain": [
       "<AxesSubplot:xlabel='quantity tons'>"
      ]
     },
     "execution_count": 16,
     "metadata": {},
     "output_type": "execute_result"
    },
    {
     "data": {
      "image/png": "[encoded data removed]",
      "text/plain": [
       "<Figure size 1080x576 with 2 Axes>"
      ]
     },
     "metadata": {
      "needs_background": "light"
     },
     "output_type": "display_data"
    }
   ],
   "source": [
    "fig,ax = plt.subplots(1,2, figsize = (15,8))\n",
    "sns.distplot(df[\"quantity tons\"], ax = ax[0], hist = False)\n",
    "\n",
    "#fig,ax = plt.subplots(1,1)\n",
    "sns.boxplot(df[\"quantity tons\"], ax = ax[1])"
   ]
  },
  {
   "cell_type": "markdown",
   "id": "a7266a45",
   "metadata": {},
   "source": [
    "**qty tons can not be negative**"
   ]
  },
  {
   "cell_type": "code",
   "execution_count": 17,
   "id": "00e2c7fd",
   "metadata": {},
   "outputs": [
    {
     "data": {
      "text/plain": [
       "(181631, 14)"
      ]
     },
     "execution_count": 17,
     "metadata": {},
     "output_type": "execute_result"
    }
   ],
   "source": [
    "df.shape"
   ]
  },
  {
   "cell_type": "code",
   "execution_count": 18,
   "id": "7bcad46d",
   "metadata": {},
   "outputs": [
    {
     "data": {
      "text/plain": [
       "(181627, 14)"
      ]
     },
     "execution_count": 18,
     "metadata": {},
     "output_type": "execute_result"
    }
   ],
   "source": [
    "df = df[df[\"quantity tons\"]>0]\n",
    "df.shape"
   ]
  },
  {
   "cell_type": "code",
   "execution_count": 19,
   "id": "07a5d314",
   "metadata": {},
   "outputs": [
    {
     "name": "stderr",
     "output_type": "stream",
     "text": [
      "C:\\Users\\anike\\.conda\\envs\\tf_test\\lib\\site-packages\\seaborn\\distributions.py:2619: FutureWarning: `distplot` is a deprecated function and will be removed in a future version. Please adapt your code to use either `displot` (a figure-level function with similar flexibility) or `kdeplot` (an axes-level function for kernel density plots).\n",
      "  warnings.warn(msg, FutureWarning)\n",
      "C:\\Users\\anike\\.conda\\envs\\tf_test\\lib\\site-packages\\seaborn\\_decorators.py:43: FutureWarning: Pass the following variable as a keyword arg: x. From version 0.12, the only valid positional argument will be `data`, and passing other arguments without an explicit keyword will result in an error or misinterpretation.\n",
      "  FutureWarning\n"
     ]
    },
    {
     "data": {
      "text/plain": [
       "<AxesSubplot:>"
      ]
     },
     "execution_count": 19,
     "metadata": {},
     "output_type": "execute_result"
    },
    {
     "data": {
      "image/png": "[encoded data removed]",
      "text/plain": [
       "<Figure size 1080x576 with 2 Axes>"
      ]
     },
     "metadata": {
      "needs_background": "light"
     },
     "output_type": "display_data"
    }
   ],
   "source": [
    "from sklearn.preprocessing import PowerTransformer\n",
    "pt_qty = PowerTransformer(method='box-cox')\n",
    "pty_bc = pt_qty.fit_transform(df[\"quantity tons\"].values.reshape(-1, 1))\n",
    "dump(pt_qty,open(\"pt_qty.pkl\", \"wb\"))\n",
    "pt_qty = load(open('pt_qty.pkl', 'rb'))\n",
    "fig,ax = plt.subplots(1,2, figsize = (15,8))\n",
    "sns.distplot(pty_bc, ax = ax[0], hist = False)\n",
    "sns.boxplot(pty_bc, ax = ax[1])"
   ]
  },
  {
   "cell_type": "code",
   "execution_count": 21,
   "id": "0e1a3c88",
   "metadata": {},
   "outputs": [
    {
     "data": {
      "text/plain": [
       "-1.5762823761508777"
      ]
     },
     "execution_count": 21,
     "metadata": {},
     "output_type": "execute_result"
    }
   ],
   "source": [
    "pt_qty.transform(np.array(3).reshape(-1,1))[0][0]"
   ]
  },
  {
   "cell_type": "code",
   "execution_count": 22,
   "id": "7838eef2",
   "metadata": {},
   "outputs": [
    {
     "data": {
      "text/plain": [
       "array([[3.]])"
      ]
     },
     "execution_count": 22,
     "metadata": {},
     "output_type": "execute_result"
    }
   ],
   "source": [
    "pt_qty.inverse_transform(np.array(-1.5762823761508777).reshape(-1,1))"
   ]
  },
  {
   "cell_type": "markdown",
   "id": "9a360677",
   "metadata": {},
   "source": [
    "**use pt_qty model to transform a new quantity tons**"
   ]
  },
  {
   "cell_type": "code",
   "execution_count": 23,
   "id": "e31da4e8",
   "metadata": {},
   "outputs": [],
   "source": [
    "df[\"quantity_tons_box_cox\"] = pty_bc"
   ]
  },
  {
   "cell_type": "code",
   "execution_count": 24,
   "id": "2a5e6710",
   "metadata": {},
   "outputs": [],
   "source": [
    "def return_outlier_mask(ser):\n",
    "    \"\"\"returns a mask to filter out outliers based on a series\"\"\"\n",
    "    percentile25 = ser.quantile(0.25)\n",
    "    percentile75 = ser.quantile(0.75)\n",
    "    iqr = percentile75 - percentile25\n",
    "    upper_limit = percentile75 + 1.5 * iqr\n",
    "    lower_limit = percentile25 - 1.5 * iqr\n",
    "    mask = (ser < upper_limit) & (ser > lower_limit)\n",
    "    return mask\n",
    "    "
   ]
  },
  {
   "cell_type": "markdown",
   "id": "54d59d2e",
   "metadata": {},
   "source": [
    "## application"
   ]
  },
  {
   "cell_type": "code",
   "execution_count": 25,
   "id": "aefbd7c8",
   "metadata": {},
   "outputs": [
    {
     "name": "stderr",
     "output_type": "stream",
     "text": [
      "C:\\Users\\anike\\.conda\\envs\\tf_test\\lib\\site-packages\\seaborn\\distributions.py:2619: FutureWarning: `distplot` is a deprecated function and will be removed in a future version. Please adapt your code to use either `displot` (a figure-level function with similar flexibility) or `kdeplot` (an axes-level function for kernel density plots).\n",
      "  warnings.warn(msg, FutureWarning)\n",
      "C:\\Users\\anike\\.conda\\envs\\tf_test\\lib\\site-packages\\seaborn\\_decorators.py:43: FutureWarning: Pass the following variable as a keyword arg: x. From version 0.12, the only valid positional argument will be `data`, and passing other arguments without an explicit keyword will result in an error or misinterpretation.\n",
      "  FutureWarning\n"
     ]
    },
    {
     "data": {
      "text/plain": [
       "<AxesSubplot:xlabel='application'>"
      ]
     },
     "execution_count": 25,
     "metadata": {},
     "output_type": "execute_result"
    },
    {
     "data": {
      "image/png": "[encoded data removed]",
      "text/plain": [
       "<Figure size 1080x576 with 2 Axes>"
      ]
     },
     "metadata": {
      "needs_background": "light"
     },
     "output_type": "display_data"
    }
   ],
   "source": [
    "fig,ax = plt.subplots(1,2, figsize = (15,8))\n",
    "sns.distplot(df[\"application\"], ax = ax[0], hist = False)\n",
    "\n",
    "#fig,ax = plt.subplots(1,1)\n",
    "sns.boxplot(df[\"application\"], ax = ax[1])"
   ]
  },
  {
   "cell_type": "markdown",
   "id": "1611bde6",
   "metadata": {},
   "source": [
    "**No need to remove outliers or any transformation on application**"
   ]
  },
  {
   "cell_type": "markdown",
   "id": "6fd22641",
   "metadata": {},
   "source": [
    "## thickness"
   ]
  },
  {
   "cell_type": "code",
   "execution_count": 26,
   "id": "244e74cd",
   "metadata": {},
   "outputs": [
    {
     "name": "stderr",
     "output_type": "stream",
     "text": [
      "C:\\Users\\anike\\.conda\\envs\\tf_test\\lib\\site-packages\\seaborn\\distributions.py:2619: FutureWarning: `distplot` is a deprecated function and will be removed in a future version. Please adapt your code to use either `displot` (a figure-level function with similar flexibility) or `kdeplot` (an axes-level function for kernel density plots).\n",
      "  warnings.warn(msg, FutureWarning)\n",
      "C:\\Users\\anike\\.conda\\envs\\tf_test\\lib\\site-packages\\seaborn\\_decorators.py:43: FutureWarning: Pass the following variable as a keyword arg: x. From version 0.12, the only valid positional argument will be `data`, and passing other arguments without an explicit keyword will result in an error or misinterpretation.\n",
      "  FutureWarning\n"
     ]
    },
    {
     "data": {
      "text/plain": [
       "<AxesSubplot:xlabel='thickness'>"
      ]
     },
     "execution_count": 26,
     "metadata": {},
     "output_type": "execute_result"
    },
    {
     "data": {
      "image/png": "[encoded data removed]",
      "text/plain": [
       "<Figure size 1080x576 with 2 Axes>"
      ]
     },
     "metadata": {
      "needs_background": "light"
     },
     "output_type": "display_data"
    }
   ],
   "source": [
    "fig,ax = plt.subplots(1,2, figsize = (15,8))\n",
    "sns.distplot(df[\"thickness\"], ax = ax[0], hist = False)\n",
    "\n",
    "#fig,ax = plt.subplots(1,1)\n",
    "sns.boxplot(df[\"thickness\"], ax = ax[1])"
   ]
  },
  {
   "cell_type": "code",
   "execution_count": 27,
   "id": "5d85b129",
   "metadata": {},
   "outputs": [
    {
     "name": "stderr",
     "output_type": "stream",
     "text": [
      "C:\\Users\\anike\\.conda\\envs\\tf_test\\lib\\site-packages\\seaborn\\distributions.py:2619: FutureWarning: `distplot` is a deprecated function and will be removed in a future version. Please adapt your code to use either `displot` (a figure-level function with similar flexibility) or `kdeplot` (an axes-level function for kernel density plots).\n",
      "  warnings.warn(msg, FutureWarning)\n",
      "C:\\Users\\anike\\.conda\\envs\\tf_test\\lib\\site-packages\\seaborn\\_decorators.py:43: FutureWarning: Pass the following variable as a keyword arg: x. From version 0.12, the only valid positional argument will be `data`, and passing other arguments without an explicit keyword will result in an error or misinterpretation.\n",
      "  FutureWarning\n"
     ]
    },
    {
     "data": {
      "text/plain": [
       "<AxesSubplot:>"
      ]
     },
     "execution_count": 27,
     "metadata": {},
     "output_type": "execute_result"
    },
    {
     "data": {
      "image/png": "[encoded data removed]",
      "text/plain": [
       "<Figure size 1080x576 with 2 Axes>"
      ]
     },
     "metadata": {
      "needs_background": "light"
     },
     "output_type": "display_data"
    }
   ],
   "source": [
    "from sklearn.preprocessing import PowerTransformer\n",
    "pt_thickness = PowerTransformer(method='box-cox')\n",
    "pty_thickness = pt_thickness.fit_transform(df[\"thickness\"].values.reshape(-1, 1))\n",
    "dump(pt_thickness,open(\"pt_thickness.pkl\", \"wb\"))\n",
    "pt_thickness = load(open('pt_thickness.pkl', 'rb'))\n",
    "fig,ax = plt.subplots(1,2, figsize = (15,8))\n",
    "sns.distplot(pty_thickness, ax = ax[0], hist = False)\n",
    "sns.boxplot(pty_thickness, ax = ax[1])"
   ]
  },
  {
   "cell_type": "markdown",
   "id": "d7a8857a",
   "metadata": {},
   "source": [
    "**use pt_thickness model to transform a new thickness**"
   ]
  },
  {
   "cell_type": "code",
   "execution_count": 28,
   "id": "80f48b1f",
   "metadata": {},
   "outputs": [],
   "source": [
    "df[\"thickness_box_cox\"] = pty_thickness"
   ]
  },
  {
   "cell_type": "markdown",
   "id": "f5fc913f",
   "metadata": {},
   "source": [
    "## width"
   ]
  },
  {
   "cell_type": "code",
   "execution_count": 29,
   "id": "bf128dcc",
   "metadata": {},
   "outputs": [
    {
     "name": "stderr",
     "output_type": "stream",
     "text": [
      "C:\\Users\\anike\\.conda\\envs\\tf_test\\lib\\site-packages\\seaborn\\distributions.py:2619: FutureWarning: `distplot` is a deprecated function and will be removed in a future version. Please adapt your code to use either `displot` (a figure-level function with similar flexibility) or `kdeplot` (an axes-level function for kernel density plots).\n",
      "  warnings.warn(msg, FutureWarning)\n",
      "C:\\Users\\anike\\.conda\\envs\\tf_test\\lib\\site-packages\\seaborn\\_decorators.py:43: FutureWarning: Pass the following variable as a keyword arg: x. From version 0.12, the only valid positional argument will be `data`, and passing other arguments without an explicit keyword will result in an error or misinterpretation.\n",
      "  FutureWarning\n"
     ]
    },
    {
     "data": {
      "text/plain": [
       "<AxesSubplot:xlabel='width'>"
      ]
     },
     "execution_count": 29,
     "metadata": {},
     "output_type": "execute_result"
    },
    {
     "data": {
      "image/png": "[encoded data removed]",
      "text/plain": [
       "<Figure size 1080x576 with 2 Axes>"
      ]
     },
     "metadata": {
      "needs_background": "light"
     },
     "output_type": "display_data"
    }
   ],
   "source": [
    "fig,ax = plt.subplots(1,2, figsize = (15,8))\n",
    "sns.distplot(df[\"width\"], ax = ax[0], hist = False)\n",
    "\n",
    "#fig,ax = plt.subplots(1,1)\n",
    "sns.boxplot(df[\"width\"], ax = ax[1])"
   ]
  },
  {
   "cell_type": "code",
   "execution_count": 30,
   "id": "4dd321ab",
   "metadata": {},
   "outputs": [
    {
     "name": "stderr",
     "output_type": "stream",
     "text": [
      "C:\\Users\\anike\\.conda\\envs\\tf_test\\lib\\site-packages\\seaborn\\distributions.py:2619: FutureWarning: `distplot` is a deprecated function and will be removed in a future version. Please adapt your code to use either `displot` (a figure-level function with similar flexibility) or `kdeplot` (an axes-level function for kernel density plots).\n",
      "  warnings.warn(msg, FutureWarning)\n",
      "C:\\Users\\anike\\.conda\\envs\\tf_test\\lib\\site-packages\\seaborn\\_decorators.py:43: FutureWarning: Pass the following variable as a keyword arg: x. From version 0.12, the only valid positional argument will be `data`, and passing other arguments without an explicit keyword will result in an error or misinterpretation.\n",
      "  FutureWarning\n"
     ]
    },
    {
     "data": {
      "text/plain": [
       "<AxesSubplot:>"
      ]
     },
     "execution_count": 30,
     "metadata": {},
     "output_type": "execute_result"
    },
    {
     "data": {
      "image/png": "[encoded data removed]",
      "text/plain": [
       "<Figure size 1080x576 with 2 Axes>"
      ]
     },
     "metadata": {
      "needs_background": "light"
     },
     "output_type": "display_data"
    }
   ],
   "source": [
    "from sklearn.preprocessing import PowerTransformer\n",
    "pt_width = PowerTransformer(method='box-cox')\n",
    "pty_width = pt_width.fit_transform(df[\"width\"].values.reshape(-1, 1))\n",
    "fig,ax = plt.subplots(1,2, figsize = (15,8))\n",
    "sns.distplot(pty_width, ax = ax[0], hist = False)\n",
    "sns.boxplot(pty_width, ax = ax[1])"
   ]
  },
  {
   "cell_type": "markdown",
   "id": "816f1c69",
   "metadata": {},
   "source": [
    "**no need to transform width**"
   ]
  },
  {
   "cell_type": "markdown",
   "id": "e2ca4303",
   "metadata": {},
   "source": [
    "## selling_price"
   ]
  },
  {
   "cell_type": "code",
   "execution_count": 31,
   "id": "cdc9ff57",
   "metadata": {},
   "outputs": [
    {
     "name": "stderr",
     "output_type": "stream",
     "text": [
      "C:\\Users\\anike\\.conda\\envs\\tf_test\\lib\\site-packages\\seaborn\\distributions.py:2619: FutureWarning: `distplot` is a deprecated function and will be removed in a future version. Please adapt your code to use either `displot` (a figure-level function with similar flexibility) or `kdeplot` (an axes-level function for kernel density plots).\n",
      "  warnings.warn(msg, FutureWarning)\n",
      "C:\\Users\\anike\\.conda\\envs\\tf_test\\lib\\site-packages\\seaborn\\_decorators.py:43: FutureWarning: Pass the following variable as a keyword arg: x. From version 0.12, the only valid positional argument will be `data`, and passing other arguments without an explicit keyword will result in an error or misinterpretation.\n",
      "  FutureWarning\n"
     ]
    },
    {
     "data": {
      "text/plain": [
       "<AxesSubplot:xlabel='selling_price'>"
      ]
     },
     "execution_count": 31,
     "metadata": {},
     "output_type": "execute_result"
    },
    {
     "data": {
      "image/png": "[encoded data removed]",
      "text/plain": [
       "<Figure size 1080x576 with 2 Axes>"
      ]
     },
     "metadata": {
      "needs_background": "light"
     },
     "output_type": "display_data"
    }
   ],
   "source": [
    "fig,ax = plt.subplots(1,2, figsize = (15,8))\n",
    "sns.distplot(df[\"selling_price\"], ax = ax[0], hist = False)\n",
    "\n",
    "#fig,ax = plt.subplots(1,1)\n",
    "sns.boxplot(df[\"selling_price\"], ax = ax[1])"
   ]
  },
  {
   "cell_type": "markdown",
   "id": "9ac96e5a",
   "metadata": {},
   "source": [
    "**selling price can not be negative**"
   ]
  },
  {
   "cell_type": "code",
   "execution_count": 32,
   "id": "8618d417",
   "metadata": {},
   "outputs": [],
   "source": [
    "df = df[df[\"selling_price\"]>0]"
   ]
  },
  {
   "cell_type": "code",
   "execution_count": 33,
   "id": "5ffe2f5b",
   "metadata": {},
   "outputs": [
    {
     "name": "stderr",
     "output_type": "stream",
     "text": [
      "C:\\Users\\anike\\.conda\\envs\\tf_test\\lib\\site-packages\\seaborn\\distributions.py:2619: FutureWarning: `distplot` is a deprecated function and will be removed in a future version. Please adapt your code to use either `displot` (a figure-level function with similar flexibility) or `kdeplot` (an axes-level function for kernel density plots).\n",
      "  warnings.warn(msg, FutureWarning)\n",
      "C:\\Users\\anike\\.conda\\envs\\tf_test\\lib\\site-packages\\seaborn\\_decorators.py:43: FutureWarning: Pass the following variable as a keyword arg: x. From version 0.12, the only valid positional argument will be `data`, and passing other arguments without an explicit keyword will result in an error or misinterpretation.\n",
      "  FutureWarning\n"
     ]
    },
    {
     "data": {
      "text/plain": [
       "<AxesSubplot:>"
      ]
     },
     "execution_count": 33,
     "metadata": {},
     "output_type": "execute_result"
    },
    {
     "data": {
      "image/png": "[encoded data removed]",
      "text/plain": [
       "<Figure size 1080x576 with 2 Axes>"
      ]
     },
     "metadata": {
      "needs_background": "light"
     },
     "output_type": "display_data"
    }
   ],
   "source": [
    "from sklearn.preprocessing import PowerTransformer\n",
    "pt_sp = PowerTransformer(method='box-cox')\n",
    "pty_sp = pt_sp.fit_transform(df[\"selling_price\"].values.reshape(-1, 1))\n",
    "dump(pt_sp,open(\"pt_sp.pkl\", \"wb\"))\n",
    "pt_sp = load(open('pt_sp.pkl', 'rb'))\n",
    "fig,ax = plt.subplots(1,2, figsize = (15,8))\n",
    "sns.distplot(pty_sp, ax = ax[0], hist = False)\n",
    "sns.boxplot(pty_sp, ax = ax[1])"
   ]
  },
  {
   "cell_type": "code",
   "execution_count": 34,
   "id": "8f78f0a2",
   "metadata": {},
   "outputs": [],
   "source": [
    "pty_sp_reverse =  "
   ]
  },
  {
   "cell_type": "code",
   "execution_count": 35,
   "id": "5407ad90",
   "metadata": {},
   "outputs": [
    {
     "data": {
      "text/plain": [
       "array([[ 854.  ],\n",
       "       [1047.  ],\n",
       "       [ 644.33],\n",
       "       ...,\n",
       "       [ 589.  ],\n",
       "       [ 619.  ],\n",
       "       [ 607.  ]])"
      ]
     },
     "execution_count": 35,
     "metadata": {},
     "output_type": "execute_result"
    }
   ],
   "source": [
    "pty_sp_reverse"
   ]
  },
  {
   "cell_type": "code",
   "execution_count": 36,
   "id": "d63398d8",
   "metadata": {},
   "outputs": [
    {
     "data": {
      "text/plain": [
       "0          854.00\n",
       "1         1047.00\n",
       "2          644.33\n",
       "3          768.00\n",
       "4          577.00\n",
       "           ...   \n",
       "181667     602.00\n",
       "181668     591.00\n",
       "181669     589.00\n",
       "181670     619.00\n",
       "181672     607.00\n",
       "Name: selling_price, Length: 181620, dtype: float64"
      ]
     },
     "execution_count": 36,
     "metadata": {},
     "output_type": "execute_result"
    }
   ],
   "source": [
    "df[\"selling_price\"]"
   ]
  },
  {
   "cell_type": "code",
   "execution_count": 37,
   "id": "84f0fd32",
   "metadata": {},
   "outputs": [],
   "source": [
    "df[\"selling_price_boxcox\"] = pty_sp"
   ]
  },
  {
   "cell_type": "code",
   "execution_count": 38,
   "id": "1a3cc695",
   "metadata": {},
   "outputs": [
    {
     "data": {
      "text/html": [
       "<div>\n",
       "<style scoped>\n",
       "    .dataframe tbody tr th:only-of-type {\n",
       "        vertical-align: middle;\n",
       "    }\n",
       "\n",
       "    .dataframe tbody tr th {\n",
       "        vertical-align: top;\n",
       "    }\n",
       "\n",
       "    .dataframe thead th {\n",
       "        text-align: right;\n",
       "    }\n",
       "</style>\n",
       "<table border=\"1\" class=\"dataframe\">\n",
       "  <thead>\n",
       "    <tr style=\"text-align: right;\">\n",
       "      <th></th>\n",
       "      <th>id</th>\n",
       "      <th>item_date</th>\n",
       "      <th>quantity tons</th>\n",
       "      <th>customer</th>\n",
       "      <th>country</th>\n",
       "      <th>status</th>\n",
       "      <th>item type</th>\n",
       "      <th>application</th>\n",
       "      <th>thickness</th>\n",
       "      <th>width</th>\n",
       "      <th>material_ref</th>\n",
       "      <th>product_ref</th>\n",
       "      <th>delivery date</th>\n",
       "      <th>selling_price</th>\n",
       "      <th>quantity_tons_box_cox</th>\n",
       "      <th>thickness_box_cox</th>\n",
       "      <th>selling_price_boxcox</th>\n",
       "    </tr>\n",
       "  </thead>\n",
       "  <tbody>\n",
       "    <tr>\n",
       "      <th>0</th>\n",
       "      <td>EC06F063-9DF0-440C-8764-0B0C05A4F6AE</td>\n",
       "      <td>2021-04-01</td>\n",
       "      <td>54.151139</td>\n",
       "      <td>30156308.0</td>\n",
       "      <td>28.0</td>\n",
       "      <td>Won</td>\n",
       "      <td>W</td>\n",
       "      <td>10.0</td>\n",
       "      <td>2.00</td>\n",
       "      <td>1500.0</td>\n",
       "      <td>DEQ1 S460MC</td>\n",
       "      <td>1670798778</td>\n",
       "      <td>2021-07-01</td>\n",
       "      <td>854.00</td>\n",
       "      <td>0.408936</td>\n",
       "      <td>0.316861</td>\n",
       "      <td>0.213644</td>\n",
       "    </tr>\n",
       "    <tr>\n",
       "      <th>1</th>\n",
       "      <td>4E5F4B3D-DDDF-499D-AFDE-A3227EC49425</td>\n",
       "      <td>2021-04-01</td>\n",
       "      <td>768.024839</td>\n",
       "      <td>30202938.0</td>\n",
       "      <td>25.0</td>\n",
       "      <td>Won</td>\n",
       "      <td>W</td>\n",
       "      <td>41.0</td>\n",
       "      <td>0.80</td>\n",
       "      <td>1210.0</td>\n",
       "      <td>104991</td>\n",
       "      <td>1668701718</td>\n",
       "      <td>2021-04-01</td>\n",
       "      <td>1047.00</td>\n",
       "      <td>2.282139</td>\n",
       "      <td>-0.729442</td>\n",
       "      <td>0.675986</td>\n",
       "    </tr>\n",
       "    <tr>\n",
       "      <th>2</th>\n",
       "      <td>E140FF1B-2407-4C02-A0DD-780A093B1158</td>\n",
       "      <td>2021-04-01</td>\n",
       "      <td>386.127949</td>\n",
       "      <td>30153963.0</td>\n",
       "      <td>30.0</td>\n",
       "      <td>Won</td>\n",
       "      <td>WI</td>\n",
       "      <td>28.0</td>\n",
       "      <td>0.38</td>\n",
       "      <td>952.0</td>\n",
       "      <td>S0380700</td>\n",
       "      <td>628377</td>\n",
       "      <td>2021-01-01</td>\n",
       "      <td>644.33</td>\n",
       "      <td>1.791441</td>\n",
       "      <td>-1.726431</td>\n",
       "      <td>-0.395350</td>\n",
       "    </tr>\n",
       "    <tr>\n",
       "      <th>3</th>\n",
       "      <td>F8D507A0-9C62-4EFE-831E-33E1DA53BB50</td>\n",
       "      <td>2021-04-01</td>\n",
       "      <td>202.411065</td>\n",
       "      <td>30349574.0</td>\n",
       "      <td>32.0</td>\n",
       "      <td>Won</td>\n",
       "      <td>S</td>\n",
       "      <td>59.0</td>\n",
       "      <td>2.30</td>\n",
       "      <td>1317.0</td>\n",
       "      <td>DX51D+ZM310MAO 2.3X1317</td>\n",
       "      <td>1668701718</td>\n",
       "      <td>2021-01-01</td>\n",
       "      <td>768.00</td>\n",
       "      <td>1.333757</td>\n",
       "      <td>0.460845</td>\n",
       "      <td>-0.019841</td>\n",
       "    </tr>\n",
       "    <tr>\n",
       "      <th>4</th>\n",
       "      <td>4E1C4E78-152B-430A-8094-ADD889C9D0AD</td>\n",
       "      <td>2021-04-01</td>\n",
       "      <td>785.526262</td>\n",
       "      <td>30211560.0</td>\n",
       "      <td>28.0</td>\n",
       "      <td>Won</td>\n",
       "      <td>W</td>\n",
       "      <td>10.0</td>\n",
       "      <td>4.00</td>\n",
       "      <td>2000.0</td>\n",
       "      <td>2_S275JR+AR-CL1</td>\n",
       "      <td>640665</td>\n",
       "      <td>2021-03-01</td>\n",
       "      <td>577.00</td>\n",
       "      <td>2.298278</td>\n",
       "      <td>0.994387</td>\n",
       "      <td>-0.624732</td>\n",
       "    </tr>\n",
       "  </tbody>\n",
       "</table>\n",
       "</div>"
      ],
      "text/plain": [
       "                                     id   item_date  quantity tons  \\\n",
       "0  EC06F063-9DF0-440C-8764-0B0C05A4F6AE  2021-04-01      54.151139   \n",
       "1  4E5F4B3D-DDDF-499D-AFDE-A3227EC49425  2021-04-01     768.024839   \n",
       "2  E140FF1B-2407-4C02-A0DD-780A093B1158  2021-04-01     386.127949   \n",
       "3  F8D507A0-9C62-4EFE-831E-33E1DA53BB50  2021-04-01     202.411065   \n",
       "4  4E1C4E78-152B-430A-8094-ADD889C9D0AD  2021-04-01     785.526262   \n",
       "\n",
       "     customer  country status item type  application  thickness   width  \\\n",
       "0  30156308.0     28.0    Won         W         10.0       2.00  1500.0   \n",
       "1  30202938.0     25.0    Won         W         41.0       0.80  1210.0   \n",
       "2  30153963.0     30.0    Won        WI         28.0       0.38   952.0   \n",
       "3  30349574.0     32.0    Won         S         59.0       2.30  1317.0   \n",
       "4  30211560.0     28.0    Won         W         10.0       4.00  2000.0   \n",
       "\n",
       "              material_ref  product_ref delivery date  selling_price  \\\n",
       "0              DEQ1 S460MC   1670798778    2021-07-01         854.00   \n",
       "1                   104991   1668701718    2021-04-01        1047.00   \n",
       "2                 S0380700       628377    2021-01-01         644.33   \n",
       "3  DX51D+ZM310MAO 2.3X1317   1668701718    2021-01-01         768.00   \n",
       "4          2_S275JR+AR-CL1       640665    2021-03-01         577.00   \n",
       "\n",
       "   quantity_tons_box_cox  thickness_box_cox  selling_price_boxcox  \n",
       "0               0.408936           0.316861              0.213644  \n",
       "1               2.282139          -0.729442              0.675986  \n",
       "2               1.791441          -1.726431             -0.395350  \n",
       "3               1.333757           0.460845             -0.019841  \n",
       "4               2.298278           0.994387             -0.624732  "
      ]
     },
     "execution_count": 38,
     "metadata": {},
     "output_type": "execute_result"
    }
   ],
   "source": [
    "df.head()"
   ]
  },
  {
   "cell_type": "code",
   "execution_count": 39,
   "id": "fde99a2a",
   "metadata": {},
   "outputs": [
    {
     "name": "stdout",
     "output_type": "stream",
     "text": [
      "num rows left after transforming continuous data:181620\n"
     ]
    }
   ],
   "source": [
    "print(f\"num rows left after transforming continuous data:{df.shape[0]}\")"
   ]
  },
  {
   "cell_type": "markdown",
   "id": "a88dc5a9",
   "metadata": {},
   "source": [
    "**we will remove quantity tons, thickness, selling_price and keep their box-cox trnasformed data. We will predict selling price and inverse transform it to get actual selling price.**"
   ]
  },
  {
   "cell_type": "code",
   "execution_count": 40,
   "id": "b4e1cd6b",
   "metadata": {},
   "outputs": [],
   "source": [
    "df.drop([\"quantity tons\", \"thickness\", \"selling_price\"], axis=1, inplace = True)"
   ]
  },
  {
   "cell_type": "code",
   "execution_count": 41,
   "id": "cb41f383",
   "metadata": {},
   "outputs": [
    {
     "data": {
      "text/html": [
       "<div>\n",
       "<style scoped>\n",
       "    .dataframe tbody tr th:only-of-type {\n",
       "        vertical-align: middle;\n",
       "    }\n",
       "\n",
       "    .dataframe tbody tr th {\n",
       "        vertical-align: top;\n",
       "    }\n",
       "\n",
       "    .dataframe thead th {\n",
       "        text-align: right;\n",
       "    }\n",
       "</style>\n",
       "<table border=\"1\" class=\"dataframe\">\n",
       "  <thead>\n",
       "    <tr style=\"text-align: right;\">\n",
       "      <th></th>\n",
       "      <th>id</th>\n",
       "      <th>item_date</th>\n",
       "      <th>customer</th>\n",
       "      <th>country</th>\n",
       "      <th>status</th>\n",
       "      <th>item type</th>\n",
       "      <th>application</th>\n",
       "      <th>width</th>\n",
       "      <th>material_ref</th>\n",
       "      <th>product_ref</th>\n",
       "      <th>delivery date</th>\n",
       "      <th>quantity_tons_box_cox</th>\n",
       "      <th>thickness_box_cox</th>\n",
       "      <th>selling_price_boxcox</th>\n",
       "    </tr>\n",
       "  </thead>\n",
       "  <tbody>\n",
       "    <tr>\n",
       "      <th>0</th>\n",
       "      <td>EC06F063-9DF0-440C-8764-0B0C05A4F6AE</td>\n",
       "      <td>2021-04-01</td>\n",
       "      <td>30156308.0</td>\n",
       "      <td>28.0</td>\n",
       "      <td>Won</td>\n",
       "      <td>W</td>\n",
       "      <td>10.0</td>\n",
       "      <td>1500.0</td>\n",
       "      <td>DEQ1 S460MC</td>\n",
       "      <td>1670798778</td>\n",
       "      <td>2021-07-01</td>\n",
       "      <td>0.408936</td>\n",
       "      <td>0.316861</td>\n",
       "      <td>0.213644</td>\n",
       "    </tr>\n",
       "    <tr>\n",
       "      <th>1</th>\n",
       "      <td>4E5F4B3D-DDDF-499D-AFDE-A3227EC49425</td>\n",
       "      <td>2021-04-01</td>\n",
       "      <td>30202938.0</td>\n",
       "      <td>25.0</td>\n",
       "      <td>Won</td>\n",
       "      <td>W</td>\n",
       "      <td>41.0</td>\n",
       "      <td>1210.0</td>\n",
       "      <td>104991</td>\n",
       "      <td>1668701718</td>\n",
       "      <td>2021-04-01</td>\n",
       "      <td>2.282139</td>\n",
       "      <td>-0.729442</td>\n",
       "      <td>0.675986</td>\n",
       "    </tr>\n",
       "    <tr>\n",
       "      <th>2</th>\n",
       "      <td>E140FF1B-2407-4C02-A0DD-780A093B1158</td>\n",
       "      <td>2021-04-01</td>\n",
       "      <td>30153963.0</td>\n",
       "      <td>30.0</td>\n",
       "      <td>Won</td>\n",
       "      <td>WI</td>\n",
       "      <td>28.0</td>\n",
       "      <td>952.0</td>\n",
       "      <td>S0380700</td>\n",
       "      <td>628377</td>\n",
       "      <td>2021-01-01</td>\n",
       "      <td>1.791441</td>\n",
       "      <td>-1.726431</td>\n",
       "      <td>-0.395350</td>\n",
       "    </tr>\n",
       "    <tr>\n",
       "      <th>3</th>\n",
       "      <td>F8D507A0-9C62-4EFE-831E-33E1DA53BB50</td>\n",
       "      <td>2021-04-01</td>\n",
       "      <td>30349574.0</td>\n",
       "      <td>32.0</td>\n",
       "      <td>Won</td>\n",
       "      <td>S</td>\n",
       "      <td>59.0</td>\n",
       "      <td>1317.0</td>\n",
       "      <td>DX51D+ZM310MAO 2.3X1317</td>\n",
       "      <td>1668701718</td>\n",
       "      <td>2021-01-01</td>\n",
       "      <td>1.333757</td>\n",
       "      <td>0.460845</td>\n",
       "      <td>-0.019841</td>\n",
       "    </tr>\n",
       "    <tr>\n",
       "      <th>4</th>\n",
       "      <td>4E1C4E78-152B-430A-8094-ADD889C9D0AD</td>\n",
       "      <td>2021-04-01</td>\n",
       "      <td>30211560.0</td>\n",
       "      <td>28.0</td>\n",
       "      <td>Won</td>\n",
       "      <td>W</td>\n",
       "      <td>10.0</td>\n",
       "      <td>2000.0</td>\n",
       "      <td>2_S275JR+AR-CL1</td>\n",
       "      <td>640665</td>\n",
       "      <td>2021-03-01</td>\n",
       "      <td>2.298278</td>\n",
       "      <td>0.994387</td>\n",
       "      <td>-0.624732</td>\n",
       "    </tr>\n",
       "  </tbody>\n",
       "</table>\n",
       "</div>"
      ],
      "text/plain": [
       "                                     id   item_date    customer  country  \\\n",
       "0  EC06F063-9DF0-440C-8764-0B0C05A4F6AE  2021-04-01  30156308.0     28.0   \n",
       "1  4E5F4B3D-DDDF-499D-AFDE-A3227EC49425  2021-04-01  30202938.0     25.0   \n",
       "2  E140FF1B-2407-4C02-A0DD-780A093B1158  2021-04-01  30153963.0     30.0   \n",
       "3  F8D507A0-9C62-4EFE-831E-33E1DA53BB50  2021-04-01  30349574.0     32.0   \n",
       "4  4E1C4E78-152B-430A-8094-ADD889C9D0AD  2021-04-01  30211560.0     28.0   \n",
       "\n",
       "  status item type  application   width             material_ref  product_ref  \\\n",
       "0    Won         W         10.0  1500.0              DEQ1 S460MC   1670798778   \n",
       "1    Won         W         41.0  1210.0                   104991   1668701718   \n",
       "2    Won        WI         28.0   952.0                 S0380700       628377   \n",
       "3    Won         S         59.0  1317.0  DX51D+ZM310MAO 2.3X1317   1668701718   \n",
       "4    Won         W         10.0  2000.0          2_S275JR+AR-CL1       640665   \n",
       "\n",
       "  delivery date  quantity_tons_box_cox  thickness_box_cox  \\\n",
       "0    2021-07-01               0.408936           0.316861   \n",
       "1    2021-04-01               2.282139          -0.729442   \n",
       "2    2021-01-01               1.791441          -1.726431   \n",
       "3    2021-01-01               1.333757           0.460845   \n",
       "4    2021-03-01               2.298278           0.994387   \n",
       "\n",
       "   selling_price_boxcox  \n",
       "0              0.213644  \n",
       "1              0.675986  \n",
       "2             -0.395350  \n",
       "3             -0.019841  \n",
       "4             -0.624732  "
      ]
     },
     "execution_count": 41,
     "metadata": {},
     "output_type": "execute_result"
    }
   ],
   "source": [
    "df.head()"
   ]
  },
  {
   "cell_type": "markdown",
   "id": "114a72eb",
   "metadata": {},
   "source": [
    "**dropping dates too**"
   ]
  },
  {
   "cell_type": "code",
   "execution_count": 42,
   "id": "6396107c",
   "metadata": {},
   "outputs": [],
   "source": [
    "df.drop([\"item_date\", \"delivery date\"], axis=1, inplace = True)"
   ]
  },
  {
   "cell_type": "code",
   "execution_count": 43,
   "id": "cc120560",
   "metadata": {},
   "outputs": [
    {
     "data": {
      "text/html": [
       "<div>\n",
       "<style scoped>\n",
       "    .dataframe tbody tr th:only-of-type {\n",
       "        vertical-align: middle;\n",
       "    }\n",
       "\n",
       "    .dataframe tbody tr th {\n",
       "        vertical-align: top;\n",
       "    }\n",
       "\n",
       "    .dataframe thead th {\n",
       "        text-align: right;\n",
       "    }\n",
       "</style>\n",
       "<table border=\"1\" class=\"dataframe\">\n",
       "  <thead>\n",
       "    <tr style=\"text-align: right;\">\n",
       "      <th></th>\n",
       "      <th>id</th>\n",
       "      <th>customer</th>\n",
       "      <th>country</th>\n",
       "      <th>status</th>\n",
       "      <th>item type</th>\n",
       "      <th>application</th>\n",
       "      <th>width</th>\n",
       "      <th>material_ref</th>\n",
       "      <th>product_ref</th>\n",
       "      <th>quantity_tons_box_cox</th>\n",
       "      <th>thickness_box_cox</th>\n",
       "      <th>selling_price_boxcox</th>\n",
       "    </tr>\n",
       "  </thead>\n",
       "  <tbody>\n",
       "    <tr>\n",
       "      <th>0</th>\n",
       "      <td>EC06F063-9DF0-440C-8764-0B0C05A4F6AE</td>\n",
       "      <td>30156308.0</td>\n",
       "      <td>28.0</td>\n",
       "      <td>Won</td>\n",
       "      <td>W</td>\n",
       "      <td>10.0</td>\n",
       "      <td>1500.0</td>\n",
       "      <td>DEQ1 S460MC</td>\n",
       "      <td>1670798778</td>\n",
       "      <td>0.408936</td>\n",
       "      <td>0.316861</td>\n",
       "      <td>0.213644</td>\n",
       "    </tr>\n",
       "    <tr>\n",
       "      <th>1</th>\n",
       "      <td>4E5F4B3D-DDDF-499D-AFDE-A3227EC49425</td>\n",
       "      <td>30202938.0</td>\n",
       "      <td>25.0</td>\n",
       "      <td>Won</td>\n",
       "      <td>W</td>\n",
       "      <td>41.0</td>\n",
       "      <td>1210.0</td>\n",
       "      <td>104991</td>\n",
       "      <td>1668701718</td>\n",
       "      <td>2.282139</td>\n",
       "      <td>-0.729442</td>\n",
       "      <td>0.675986</td>\n",
       "    </tr>\n",
       "    <tr>\n",
       "      <th>2</th>\n",
       "      <td>E140FF1B-2407-4C02-A0DD-780A093B1158</td>\n",
       "      <td>30153963.0</td>\n",
       "      <td>30.0</td>\n",
       "      <td>Won</td>\n",
       "      <td>WI</td>\n",
       "      <td>28.0</td>\n",
       "      <td>952.0</td>\n",
       "      <td>S0380700</td>\n",
       "      <td>628377</td>\n",
       "      <td>1.791441</td>\n",
       "      <td>-1.726431</td>\n",
       "      <td>-0.395350</td>\n",
       "    </tr>\n",
       "    <tr>\n",
       "      <th>3</th>\n",
       "      <td>F8D507A0-9C62-4EFE-831E-33E1DA53BB50</td>\n",
       "      <td>30349574.0</td>\n",
       "      <td>32.0</td>\n",
       "      <td>Won</td>\n",
       "      <td>S</td>\n",
       "      <td>59.0</td>\n",
       "      <td>1317.0</td>\n",
       "      <td>DX51D+ZM310MAO 2.3X1317</td>\n",
       "      <td>1668701718</td>\n",
       "      <td>1.333757</td>\n",
       "      <td>0.460845</td>\n",
       "      <td>-0.019841</td>\n",
       "    </tr>\n",
       "    <tr>\n",
       "      <th>4</th>\n",
       "      <td>4E1C4E78-152B-430A-8094-ADD889C9D0AD</td>\n",
       "      <td>30211560.0</td>\n",
       "      <td>28.0</td>\n",
       "      <td>Won</td>\n",
       "      <td>W</td>\n",
       "      <td>10.0</td>\n",
       "      <td>2000.0</td>\n",
       "      <td>2_S275JR+AR-CL1</td>\n",
       "      <td>640665</td>\n",
       "      <td>2.298278</td>\n",
       "      <td>0.994387</td>\n",
       "      <td>-0.624732</td>\n",
       "    </tr>\n",
       "  </tbody>\n",
       "</table>\n",
       "</div>"
      ],
      "text/plain": [
       "                                     id    customer  country status item type  \\\n",
       "0  EC06F063-9DF0-440C-8764-0B0C05A4F6AE  30156308.0     28.0    Won         W   \n",
       "1  4E5F4B3D-DDDF-499D-AFDE-A3227EC49425  30202938.0     25.0    Won         W   \n",
       "2  E140FF1B-2407-4C02-A0DD-780A093B1158  30153963.0     30.0    Won        WI   \n",
       "3  F8D507A0-9C62-4EFE-831E-33E1DA53BB50  30349574.0     32.0    Won         S   \n",
       "4  4E1C4E78-152B-430A-8094-ADD889C9D0AD  30211560.0     28.0    Won         W   \n",
       "\n",
       "   application   width             material_ref  product_ref  \\\n",
       "0         10.0  1500.0              DEQ1 S460MC   1670798778   \n",
       "1         41.0  1210.0                   104991   1668701718   \n",
       "2         28.0   952.0                 S0380700       628377   \n",
       "3         59.0  1317.0  DX51D+ZM310MAO 2.3X1317   1668701718   \n",
       "4         10.0  2000.0          2_S275JR+AR-CL1       640665   \n",
       "\n",
       "   quantity_tons_box_cox  thickness_box_cox  selling_price_boxcox  \n",
       "0               0.408936           0.316861              0.213644  \n",
       "1               2.282139          -0.729442              0.675986  \n",
       "2               1.791441          -1.726431             -0.395350  \n",
       "3               1.333757           0.460845             -0.019841  \n",
       "4               2.298278           0.994387             -0.624732  "
      ]
     },
     "execution_count": 43,
     "metadata": {},
     "output_type": "execute_result"
    }
   ],
   "source": [
    "df.head()"
   ]
  },
  {
   "cell_type": "markdown",
   "id": "c78f14b7",
   "metadata": {},
   "source": [
    "**dropping customer too as new customer might come**"
   ]
  },
  {
   "cell_type": "code",
   "execution_count": 44,
   "id": "20e664a6",
   "metadata": {},
   "outputs": [],
   "source": [
    "df.drop([\"customer\"], axis=1, inplace = True)"
   ]
  },
  {
   "cell_type": "code",
   "execution_count": 45,
   "id": "8b6dfb4c",
   "metadata": {},
   "outputs": [
    {
     "data": {
      "text/html": [
       "<div>\n",
       "<style scoped>\n",
       "    .dataframe tbody tr th:only-of-type {\n",
       "        vertical-align: middle;\n",
       "    }\n",
       "\n",
       "    .dataframe tbody tr th {\n",
       "        vertical-align: top;\n",
       "    }\n",
       "\n",
       "    .dataframe thead th {\n",
       "        text-align: right;\n",
       "    }\n",
       "</style>\n",
       "<table border=\"1\" class=\"dataframe\">\n",
       "  <thead>\n",
       "    <tr style=\"text-align: right;\">\n",
       "      <th></th>\n",
       "      <th>id</th>\n",
       "      <th>country</th>\n",
       "      <th>status</th>\n",
       "      <th>item type</th>\n",
       "      <th>application</th>\n",
       "      <th>width</th>\n",
       "      <th>material_ref</th>\n",
       "      <th>product_ref</th>\n",
       "      <th>quantity_tons_box_cox</th>\n",
       "      <th>thickness_box_cox</th>\n",
       "      <th>selling_price_boxcox</th>\n",
       "    </tr>\n",
       "  </thead>\n",
       "  <tbody>\n",
       "    <tr>\n",
       "      <th>0</th>\n",
       "      <td>EC06F063-9DF0-440C-8764-0B0C05A4F6AE</td>\n",
       "      <td>28.0</td>\n",
       "      <td>Won</td>\n",
       "      <td>W</td>\n",
       "      <td>10.0</td>\n",
       "      <td>1500.0</td>\n",
       "      <td>DEQ1 S460MC</td>\n",
       "      <td>1670798778</td>\n",
       "      <td>0.408936</td>\n",
       "      <td>0.316861</td>\n",
       "      <td>0.213644</td>\n",
       "    </tr>\n",
       "    <tr>\n",
       "      <th>1</th>\n",
       "      <td>4E5F4B3D-DDDF-499D-AFDE-A3227EC49425</td>\n",
       "      <td>25.0</td>\n",
       "      <td>Won</td>\n",
       "      <td>W</td>\n",
       "      <td>41.0</td>\n",
       "      <td>1210.0</td>\n",
       "      <td>104991</td>\n",
       "      <td>1668701718</td>\n",
       "      <td>2.282139</td>\n",
       "      <td>-0.729442</td>\n",
       "      <td>0.675986</td>\n",
       "    </tr>\n",
       "    <tr>\n",
       "      <th>2</th>\n",
       "      <td>E140FF1B-2407-4C02-A0DD-780A093B1158</td>\n",
       "      <td>30.0</td>\n",
       "      <td>Won</td>\n",
       "      <td>WI</td>\n",
       "      <td>28.0</td>\n",
       "      <td>952.0</td>\n",
       "      <td>S0380700</td>\n",
       "      <td>628377</td>\n",
       "      <td>1.791441</td>\n",
       "      <td>-1.726431</td>\n",
       "      <td>-0.395350</td>\n",
       "    </tr>\n",
       "    <tr>\n",
       "      <th>3</th>\n",
       "      <td>F8D507A0-9C62-4EFE-831E-33E1DA53BB50</td>\n",
       "      <td>32.0</td>\n",
       "      <td>Won</td>\n",
       "      <td>S</td>\n",
       "      <td>59.0</td>\n",
       "      <td>1317.0</td>\n",
       "      <td>DX51D+ZM310MAO 2.3X1317</td>\n",
       "      <td>1668701718</td>\n",
       "      <td>1.333757</td>\n",
       "      <td>0.460845</td>\n",
       "      <td>-0.019841</td>\n",
       "    </tr>\n",
       "    <tr>\n",
       "      <th>4</th>\n",
       "      <td>4E1C4E78-152B-430A-8094-ADD889C9D0AD</td>\n",
       "      <td>28.0</td>\n",
       "      <td>Won</td>\n",
       "      <td>W</td>\n",
       "      <td>10.0</td>\n",
       "      <td>2000.0</td>\n",
       "      <td>2_S275JR+AR-CL1</td>\n",
       "      <td>640665</td>\n",
       "      <td>2.298278</td>\n",
       "      <td>0.994387</td>\n",
       "      <td>-0.624732</td>\n",
       "    </tr>\n",
       "  </tbody>\n",
       "</table>\n",
       "</div>"
      ],
      "text/plain": [
       "                                     id  country status item type  \\\n",
       "0  EC06F063-9DF0-440C-8764-0B0C05A4F6AE     28.0    Won         W   \n",
       "1  4E5F4B3D-DDDF-499D-AFDE-A3227EC49425     25.0    Won         W   \n",
       "2  E140FF1B-2407-4C02-A0DD-780A093B1158     30.0    Won        WI   \n",
       "3  F8D507A0-9C62-4EFE-831E-33E1DA53BB50     32.0    Won         S   \n",
       "4  4E1C4E78-152B-430A-8094-ADD889C9D0AD     28.0    Won         W   \n",
       "\n",
       "   application   width             material_ref  product_ref  \\\n",
       "0         10.0  1500.0              DEQ1 S460MC   1670798778   \n",
       "1         41.0  1210.0                   104991   1668701718   \n",
       "2         28.0   952.0                 S0380700       628377   \n",
       "3         59.0  1317.0  DX51D+ZM310MAO 2.3X1317   1668701718   \n",
       "4         10.0  2000.0          2_S275JR+AR-CL1       640665   \n",
       "\n",
       "   quantity_tons_box_cox  thickness_box_cox  selling_price_boxcox  \n",
       "0               0.408936           0.316861              0.213644  \n",
       "1               2.282139          -0.729442              0.675986  \n",
       "2               1.791441          -1.726431             -0.395350  \n",
       "3               1.333757           0.460845             -0.019841  \n",
       "4               2.298278           0.994387             -0.624732  "
      ]
     },
     "execution_count": 45,
     "metadata": {},
     "output_type": "execute_result"
    }
   ],
   "source": [
    "df.head()"
   ]
  },
  {
   "cell_type": "markdown",
   "id": "bcd46bc0",
   "metadata": {},
   "source": [
    "# Train test split"
   ]
  },
  {
   "cell_type": "code",
   "execution_count": 102,
   "id": "e18cb54a",
   "metadata": {},
   "outputs": [],
   "source": [
    "from sklearn.model_selection import train_test_split\n",
    "X=df.drop([\"selling_price_boxcox\"], axis = 1)\n",
    "y=df['selling_price_boxcox']\n",
    "X_train, X_test, y_train, y_test = train_test_split(X, y, test_size=0.3, random_state=42)"
   ]
  },
  {
   "cell_type": "code",
   "execution_count": 103,
   "id": "937c8b43",
   "metadata": {},
   "outputs": [
    {
     "name": "stdout",
     "output_type": "stream",
     "text": [
      "(127134, 10)\n",
      "(54486, 10)\n",
      "(127134,)\n",
      "(54486,)\n"
     ]
    }
   ],
   "source": [
    "print(X_train.shape)\n",
    "print(X_test.shape)\n",
    "print(y_train.shape)\n",
    "print(y_test.shape)"
   ]
  },
  {
   "cell_type": "markdown",
   "id": "7b812043",
   "metadata": {},
   "source": [
    "## OHE country"
   ]
  },
  {
   "cell_type": "code",
   "execution_count": 106,
   "id": "7a71346f",
   "metadata": {},
   "outputs": [],
   "source": [
    "from sklearn.preprocessing import StandardScaler, OneHotEncoder\n",
    "ohe_country = OneHotEncoder(handle_unknown='ignore')\n",
    "ohe_country.fit(X_train[['country']])\n",
    "dump(ohe_country,open(\"ohe_country.pkl\", \"wb\"))\n",
    "ohe_country = load(open('ohe_country.pkl', 'rb'))\n",
    "ohe_tr_country = ohe_country.transform(X_train[['country']])\n",
    "ohe_te_country = ohe_country.transform(X_test[['country']])"
   ]
  },
  {
   "cell_type": "code",
   "execution_count": 107,
   "id": "cf4b473f",
   "metadata": {},
   "outputs": [
    {
     "data": {
      "text/plain": [
       "(127134, 17)"
      ]
     },
     "execution_count": 107,
     "metadata": {},
     "output_type": "execute_result"
    }
   ],
   "source": [
    "ohe_tr_country.shape"
   ]
  },
  {
   "cell_type": "code",
   "execution_count": 108,
   "id": "eb613a50",
   "metadata": {},
   "outputs": [
    {
     "data": {
      "text/plain": [
       "(54486, 17)"
      ]
     },
     "execution_count": 108,
     "metadata": {},
     "output_type": "execute_result"
    }
   ],
   "source": [
    "ohe_te_country.shape"
   ]
  },
  {
   "cell_type": "code",
   "execution_count": 109,
   "id": "595235bf",
   "metadata": {},
   "outputs": [
    {
     "data": {
      "text/plain": [
       "<127134x17 sparse matrix of type '<class 'numpy.float64'>'\n",
       "\twith 127134 stored elements in Compressed Sparse Row format>"
      ]
     },
     "execution_count": 109,
     "metadata": {},
     "output_type": "execute_result"
    }
   ],
   "source": [
    "ohe_tr_country"
   ]
  },
  {
   "cell_type": "markdown",
   "id": "9bda821b",
   "metadata": {},
   "source": [
    "## OHE status"
   ]
  },
  {
   "cell_type": "code",
   "execution_count": 110,
   "id": "7c23d7a2",
   "metadata": {},
   "outputs": [],
   "source": [
    "from sklearn.preprocessing import StandardScaler, OneHotEncoder\n",
    "ohe_status = OneHotEncoder(handle_unknown='ignore')\n",
    "ohe_status.fit(X_train[['status']])\n",
    "dump(ohe_status,open(\"ohe_status.pkl\", \"wb\"))\n",
    "ohe_status = load(open('ohe_status.pkl', 'rb'))\n",
    "ohe_tr_status = ohe_status.transform(X_train[['status']])\n",
    "ohe_te_status = ohe_status.transform(X_test[['status']])"
   ]
  },
  {
   "cell_type": "code",
   "execution_count": 111,
   "id": "ed9c9b75",
   "metadata": {},
   "outputs": [
    {
     "name": "stdout",
     "output_type": "stream",
     "text": [
      "(127134, 8)\n",
      "(54486, 8)\n"
     ]
    }
   ],
   "source": [
    "print(ohe_tr_status.shape)\n",
    "print(ohe_te_status.shape)"
   ]
  },
  {
   "cell_type": "markdown",
   "id": "8368958d",
   "metadata": {},
   "source": [
    "# OHE item type"
   ]
  },
  {
   "cell_type": "code",
   "execution_count": 112,
   "id": "2d3b42b9",
   "metadata": {},
   "outputs": [],
   "source": [
    "from sklearn.preprocessing import StandardScaler, OneHotEncoder\n",
    "ohe_item = OneHotEncoder(handle_unknown='ignore')\n",
    "ohe_item.fit(X_train[['item type']])\n",
    "dump(ohe_item,open(\"ohe_item.pkl\", \"wb\"))\n",
    "ohe_item = load(open('ohe_item.pkl', 'rb'))\n",
    "ohe_tr_item = ohe_item.transform(X_train[['item type']])\n",
    "ohe_te_item = ohe_item.transform(X_test[['item type']])"
   ]
  },
  {
   "cell_type": "code",
   "execution_count": 113,
   "id": "843ad5c0",
   "metadata": {},
   "outputs": [
    {
     "name": "stdout",
     "output_type": "stream",
     "text": [
      "(127134, 6)\n",
      "(54486, 6)\n"
     ]
    }
   ],
   "source": [
    "print(ohe_tr_item.shape)\n",
    "print(ohe_te_item.shape)"
   ]
  },
  {
   "cell_type": "code",
   "execution_count": 114,
   "id": "8131dbd3",
   "metadata": {},
   "outputs": [
    {
     "data": {
      "text/plain": [
       "30"
      ]
     },
     "execution_count": 114,
     "metadata": {},
     "output_type": "execute_result"
    }
   ],
   "source": [
    "df[\"application\"].nunique()"
   ]
  },
  {
   "cell_type": "markdown",
   "id": "0f53f6b5",
   "metadata": {},
   "source": [
    "# OHE application"
   ]
  },
  {
   "cell_type": "code",
   "execution_count": 115,
   "id": "5ad12436",
   "metadata": {},
   "outputs": [],
   "source": [
    "from sklearn.preprocessing import StandardScaler, OneHotEncoder\n",
    "ohe_app = OneHotEncoder(handle_unknown='ignore')\n",
    "ohe_app.fit(X_train[['application']])\n",
    "dump(ohe_app,open(\"ohe_app.pkl\", \"wb\"))\n",
    "ohe_app = load(open('ohe_app.pkl', 'rb'))\n",
    "ohe_tr_app = ohe_app.transform(X_train[['application']])\n",
    "ohe_te_app = ohe_app.transform(X_test[['application']])"
   ]
  },
  {
   "cell_type": "code",
   "execution_count": 116,
   "id": "5cdb59c7",
   "metadata": {},
   "outputs": [
    {
     "name": "stdout",
     "output_type": "stream",
     "text": [
      "(127134, 30)\n",
      "(54486, 30)\n"
     ]
    }
   ],
   "source": [
    "print(ohe_tr_app.shape)\n",
    "print(ohe_te_app.shape)"
   ]
  },
  {
   "cell_type": "markdown",
   "id": "79e11dd2",
   "metadata": {},
   "source": [
    "# material ref"
   ]
  },
  {
   "cell_type": "code",
   "execution_count": 117,
   "id": "2de06e08",
   "metadata": {},
   "outputs": [],
   "source": [
    "from sklearn.preprocessing import StandardScaler, OneHotEncoder\n",
    "ohe_mat = OneHotEncoder(handle_unknown='ignore')\n",
    "ohe_mat.fit(X_train[['material_ref']])\n",
    "dump(ohe_mat,open(\"ohe_mat.pkl\", \"wb\"))\n",
    "ohe_mat = load(open('ohe_mat.pkl', 'rb'))\n",
    "ohe_tr_mat = ohe_mat.transform(X_train[['material_ref']])\n",
    "ohe_te_mat = ohe_mat.transform(X_test[['material_ref']])"
   ]
  },
  {
   "cell_type": "code",
   "execution_count": 118,
   "id": "da84aa27",
   "metadata": {},
   "outputs": [
    {
     "name": "stdout",
     "output_type": "stream",
     "text": [
      "(127134, 14917)\n",
      "(54486, 14917)\n"
     ]
    }
   ],
   "source": [
    "print(ohe_tr_mat.shape)\n",
    "print(ohe_te_mat.shape)"
   ]
  },
  {
   "cell_type": "markdown",
   "id": "1d9b8f01",
   "metadata": {},
   "source": [
    "# product ref"
   ]
  },
  {
   "cell_type": "code",
   "execution_count": 119,
   "id": "88339c94",
   "metadata": {},
   "outputs": [],
   "source": [
    "from sklearn.preprocessing import StandardScaler, OneHotEncoder\n",
    "ohe_pro = OneHotEncoder(handle_unknown='ignore')\n",
    "ohe_pro.fit(X_train[['product_ref']])\n",
    "dump(ohe_pro,open(\"ohe_pro.pkl\", \"wb\"))\n",
    "ohe_pro = load(open('ohe_pro.pkl', 'rb'))\n",
    "ohe_tr_pro = ohe_pro.transform(X_train[['product_ref']])\n",
    "ohe_te_pro = ohe_pro.transform(X_test[['product_ref']])"
   ]
  },
  {
   "cell_type": "code",
   "execution_count": 120,
   "id": "48c5fea1",
   "metadata": {},
   "outputs": [
    {
     "name": "stdout",
     "output_type": "stream",
     "text": [
      "(127134, 33)\n",
      "(54486, 33)\n"
     ]
    }
   ],
   "source": [
    "print(ohe_tr_pro.shape)\n",
    "print(ohe_te_pro.shape)"
   ]
  },
  {
   "cell_type": "code",
   "execution_count": 121,
   "id": "8fdae597",
   "metadata": {},
   "outputs": [
    {
     "data": {
      "text/plain": [
       "Index(['id', 'country', 'status', 'item type', 'application', 'width',\n",
       "       'material_ref', 'product_ref', 'quantity_tons_box_cox',\n",
       "       'thickness_box_cox'],\n",
       "      dtype='object')"
      ]
     },
     "execution_count": 121,
     "metadata": {},
     "output_type": "execute_result"
    }
   ],
   "source": [
    "X_train.columns"
   ]
  },
  {
   "cell_type": "code",
   "execution_count": 122,
   "id": "e984883b",
   "metadata": {},
   "outputs": [
    {
     "data": {
      "text/plain": [
       "(127134, 14917)"
      ]
     },
     "execution_count": 122,
     "metadata": {},
     "output_type": "execute_result"
    }
   ],
   "source": [
    "ohe_tr_mat.shape"
   ]
  },
  {
   "cell_type": "code",
   "execution_count": 143,
   "id": "5abda8f9",
   "metadata": {},
   "outputs": [
    {
     "data": {
      "text/html": [
       "<div>\n",
       "<style scoped>\n",
       "    .dataframe tbody tr th:only-of-type {\n",
       "        vertical-align: middle;\n",
       "    }\n",
       "\n",
       "    .dataframe tbody tr th {\n",
       "        vertical-align: top;\n",
       "    }\n",
       "\n",
       "    .dataframe thead th {\n",
       "        text-align: right;\n",
       "    }\n",
       "</style>\n",
       "<table border=\"1\" class=\"dataframe\">\n",
       "  <thead>\n",
       "    <tr style=\"text-align: right;\">\n",
       "      <th></th>\n",
       "      <th>id</th>\n",
       "      <th>country</th>\n",
       "      <th>status</th>\n",
       "      <th>item type</th>\n",
       "      <th>application</th>\n",
       "      <th>width</th>\n",
       "      <th>material_ref</th>\n",
       "      <th>product_ref</th>\n",
       "      <th>quantity_tons_box_cox</th>\n",
       "      <th>thickness_box_cox</th>\n",
       "    </tr>\n",
       "  </thead>\n",
       "  <tbody>\n",
       "    <tr>\n",
       "      <th>180032</th>\n",
       "      <td>4909CF33-8A72-4276-AC37-32300024B35A</td>\n",
       "      <td>26.0</td>\n",
       "      <td>Won</td>\n",
       "      <td>W</td>\n",
       "      <td>59.0</td>\n",
       "      <td>1330.0</td>\n",
       "      <td>122.1330,0.500.00</td>\n",
       "      <td>1670798778</td>\n",
       "      <td>0.143482</td>\n",
       "      <td>1.193954</td>\n",
       "    </tr>\n",
       "    <tr>\n",
       "      <th>161514</th>\n",
       "      <td>7D24AECB-19EC-4D74-9752-27CAE033E7F9</td>\n",
       "      <td>78.0</td>\n",
       "      <td>Won</td>\n",
       "      <td>W</td>\n",
       "      <td>41.0</td>\n",
       "      <td>1246.0</td>\n",
       "      <td>typical basket</td>\n",
       "      <td>611993</td>\n",
       "      <td>1.029406</td>\n",
       "      <td>-1.427040</td>\n",
       "    </tr>\n",
       "    <tr>\n",
       "      <th>68697</th>\n",
       "      <td>E2FED4B9-1B5C-4817-B2C3-AE00644FDCD4</td>\n",
       "      <td>32.0</td>\n",
       "      <td>Won</td>\n",
       "      <td>W</td>\n",
       "      <td>10.0</td>\n",
       "      <td>1500.0</td>\n",
       "      <td>DC04-1020 X 2.00 CCPU</td>\n",
       "      <td>628377</td>\n",
       "      <td>0.041335</td>\n",
       "      <td>0.724118</td>\n",
       "    </tr>\n",
       "    <tr>\n",
       "      <th>133360</th>\n",
       "      <td>FF11DA4D-859F-49AA-8B79-B87FBECCBCF4</td>\n",
       "      <td>26.0</td>\n",
       "      <td>Not lost for AM</td>\n",
       "      <td>W</td>\n",
       "      <td>10.0</td>\n",
       "      <td>850.0</td>\n",
       "      <td>B CZ03202746946</td>\n",
       "      <td>611993</td>\n",
       "      <td>-0.610620</td>\n",
       "      <td>0.691271</td>\n",
       "    </tr>\n",
       "    <tr>\n",
       "      <th>105404</th>\n",
       "      <td>819EA2D4-C8B5-499F-B8D0-EC996AB7860A</td>\n",
       "      <td>27.0</td>\n",
       "      <td>Not lost for AM</td>\n",
       "      <td>S</td>\n",
       "      <td>59.0</td>\n",
       "      <td>2000.0</td>\n",
       "      <td>unknown</td>\n",
       "      <td>640665</td>\n",
       "      <td>0.418027</td>\n",
       "      <td>1.350767</td>\n",
       "    </tr>\n",
       "    <tr>\n",
       "      <th>...</th>\n",
       "      <td>...</td>\n",
       "      <td>...</td>\n",
       "      <td>...</td>\n",
       "      <td>...</td>\n",
       "      <td>...</td>\n",
       "      <td>...</td>\n",
       "      <td>...</td>\n",
       "      <td>...</td>\n",
       "      <td>...</td>\n",
       "      <td>...</td>\n",
       "    </tr>\n",
       "    <tr>\n",
       "      <th>119926</th>\n",
       "      <td>8E5C8534-9747-4010-BCC7-1E3D25D2956C</td>\n",
       "      <td>77.0</td>\n",
       "      <td>Lost</td>\n",
       "      <td>W</td>\n",
       "      <td>15.0</td>\n",
       "      <td>1500.0</td>\n",
       "      <td>S235JR+N-CL1 TD</td>\n",
       "      <td>640405</td>\n",
       "      <td>0.151918</td>\n",
       "      <td>1.761909</td>\n",
       "    </tr>\n",
       "    <tr>\n",
       "      <th>103703</th>\n",
       "      <td>0CEC4CBA-6A51-4772-89AF-8CDC44DDC09A</td>\n",
       "      <td>30.0</td>\n",
       "      <td>Won</td>\n",
       "      <td>W</td>\n",
       "      <td>10.0</td>\n",
       "      <td>1250.0</td>\n",
       "      <td>940056146</td>\n",
       "      <td>611993</td>\n",
       "      <td>-0.529314</td>\n",
       "      <td>-0.897921</td>\n",
       "    </tr>\n",
       "    <tr>\n",
       "      <th>131982</th>\n",
       "      <td>BFC1DF02-6F04-4229-B599-03B59D50714E</td>\n",
       "      <td>26.0</td>\n",
       "      <td>Won</td>\n",
       "      <td>W</td>\n",
       "      <td>56.0</td>\n",
       "      <td>234.8</td>\n",
       "      <td>50063234803</td>\n",
       "      <td>1722207579</td>\n",
       "      <td>0.434402</td>\n",
       "      <td>-1.033947</td>\n",
       "    </tr>\n",
       "    <tr>\n",
       "      <th>146917</th>\n",
       "      <td>0388951E-54CA-45ED-B9F5-9B38B59A8F9D</td>\n",
       "      <td>28.0</td>\n",
       "      <td>Lost</td>\n",
       "      <td>W</td>\n",
       "      <td>15.0</td>\n",
       "      <td>1000.0</td>\n",
       "      <td>NASTLAMTDM0,6X1000</td>\n",
       "      <td>611993</td>\n",
       "      <td>-0.544089</td>\n",
       "      <td>-1.097878</td>\n",
       "    </tr>\n",
       "    <tr>\n",
       "      <th>122005</th>\n",
       "      <td>92B5F2B4-7C71-4FB1-AF10-31426943D681</td>\n",
       "      <td>78.0</td>\n",
       "      <td>Won</td>\n",
       "      <td>S</td>\n",
       "      <td>10.0</td>\n",
       "      <td>1100.0</td>\n",
       "      <td>unknown</td>\n",
       "      <td>628377</td>\n",
       "      <td>0.428616</td>\n",
       "      <td>-0.584386</td>\n",
       "    </tr>\n",
       "  </tbody>\n",
       "</table>\n",
       "<p>127134 rows × 10 columns</p>\n",
       "</div>"
      ],
      "text/plain": [
       "                                          id  country           status  \\\n",
       "180032  4909CF33-8A72-4276-AC37-32300024B35A     26.0              Won   \n",
       "161514  7D24AECB-19EC-4D74-9752-27CAE033E7F9     78.0              Won   \n",
       "68697   E2FED4B9-1B5C-4817-B2C3-AE00644FDCD4     32.0              Won   \n",
       "133360  FF11DA4D-859F-49AA-8B79-B87FBECCBCF4     26.0  Not lost for AM   \n",
       "105404  819EA2D4-C8B5-499F-B8D0-EC996AB7860A     27.0  Not lost for AM   \n",
       "...                                      ...      ...              ...   \n",
       "119926  8E5C8534-9747-4010-BCC7-1E3D25D2956C     77.0             Lost   \n",
       "103703  0CEC4CBA-6A51-4772-89AF-8CDC44DDC09A     30.0              Won   \n",
       "131982  BFC1DF02-6F04-4229-B599-03B59D50714E     26.0              Won   \n",
       "146917  0388951E-54CA-45ED-B9F5-9B38B59A8F9D     28.0             Lost   \n",
       "122005  92B5F2B4-7C71-4FB1-AF10-31426943D681     78.0              Won   \n",
       "\n",
       "       item type  application   width           material_ref  product_ref  \\\n",
       "180032         W         59.0  1330.0      122.1330,0.500.00   1670798778   \n",
       "161514         W         41.0  1246.0         typical basket       611993   \n",
       "68697          W         10.0  1500.0  DC04-1020 X 2.00 CCPU       628377   \n",
       "133360         W         10.0   850.0        B CZ03202746946       611993   \n",
       "105404         S         59.0  2000.0                unknown       640665   \n",
       "...          ...          ...     ...                    ...          ...   \n",
       "119926         W         15.0  1500.0        S235JR+N-CL1 TD       640405   \n",
       "103703         W         10.0  1250.0              940056146       611993   \n",
       "131982         W         56.0   234.8            50063234803   1722207579   \n",
       "146917         W         15.0  1000.0     NASTLAMTDM0,6X1000       611993   \n",
       "122005         S         10.0  1100.0                unknown       628377   \n",
       "\n",
       "        quantity_tons_box_cox  thickness_box_cox  \n",
       "180032               0.143482           1.193954  \n",
       "161514               1.029406          -1.427040  \n",
       "68697                0.041335           0.724118  \n",
       "133360              -0.610620           0.691271  \n",
       "105404               0.418027           1.350767  \n",
       "...                       ...                ...  \n",
       "119926               0.151918           1.761909  \n",
       "103703              -0.529314          -0.897921  \n",
       "131982               0.434402          -1.033947  \n",
       "146917              -0.544089          -1.097878  \n",
       "122005               0.428616          -0.584386  \n",
       "\n",
       "[127134 rows x 10 columns]"
      ]
     },
     "execution_count": 143,
     "metadata": {},
     "output_type": "execute_result"
    }
   ],
   "source": [
    "X_train"
   ]
  },
  {
   "cell_type": "code",
   "execution_count": 124,
   "id": "850deee1",
   "metadata": {},
   "outputs": [],
   "source": [
    "from scipy.sparse import hstack\n",
    "Train_X = hstack((X_train[['width', 'quantity_tons_box_cox', 'thickness_box_cox']].values, ohe_tr_country, ohe_tr_status,\n",
    "                         ohe_tr_item, ohe_tr_app, ohe_tr_mat, ohe_tr_pro))"
   ]
  },
  {
   "cell_type": "code",
   "execution_count": 125,
   "id": "f6fc9f3d",
   "metadata": {},
   "outputs": [],
   "source": [
    "Test_X = hstack((X_test[['width', 'quantity_tons_box_cox', 'thickness_box_cox']].values, ohe_te_country, ohe_te_status,\n",
    "                         ohe_te_item, ohe_te_app, ohe_te_mat, ohe_te_pro))"
   ]
  },
  {
   "cell_type": "code",
   "execution_count": 126,
   "id": "220d24bd",
   "metadata": {},
   "outputs": [
    {
     "name": "stdout",
     "output_type": "stream",
     "text": [
      "(127134, 15014)\n",
      "(54486, 15014)\n"
     ]
    }
   ],
   "source": [
    "print(Train_X.shape)\n",
    "print(Test_X.shape)"
   ]
  },
  {
   "cell_type": "code",
   "execution_count": 127,
   "id": "56aa0493",
   "metadata": {},
   "outputs": [],
   "source": [
    "from sklearn.tree import DecisionTreeRegressor\n",
    "from sklearn.metrics import mean_squared_error, r2_score\n",
    "from sklearn.model_selection import GridSearchCV, RandomizedSearchCV\n"
   ]
  },
  {
   "cell_type": "code",
   "execution_count": 129,
   "id": "5e6eb422",
   "metadata": {},
   "outputs": [
    {
     "data": {
      "text/plain": [
       "RandomizedSearchCV(cv=4, estimator=DecisionTreeRegressor(),\n",
       "                   param_distributions={'max_depth': [2, 5, 10, 20],\n",
       "                                        'max_features': ['auto', 'sqrt',\n",
       "                                                         'log2'],\n",
       "                                        'min_samples_leaf': [1, 2, 4],\n",
       "                                        'min_samples_split': [2, 5, 10]},\n",
       "                   scoring='r2')"
      ]
     },
     "execution_count": 129,
     "metadata": {},
     "output_type": "execute_result"
    }
   ],
   "source": [
    "# decision tree\n",
    "dtr = DecisionTreeRegressor()\n",
    "# hyperparameters\n",
    "param_grid = {'max_depth': [2, 5, 10, 20],\n",
    "              'min_samples_split': [2, 5, 10],\n",
    "              'min_samples_leaf': [1, 2, 4],\n",
    "              'max_features': ['auto', 'sqrt', 'log2']}\n",
    "# gridsearchcv\n",
    "rand_search = RandomizedSearchCV(estimator=dtr, param_distributions=param_grid, cv=4, scoring = \"r2\")\n",
    "rand_search.fit(Train_X, y_train)\n"
   ]
  },
  {
   "cell_type": "code",
   "execution_count": 130,
   "id": "fc3c073c",
   "metadata": {},
   "outputs": [
    {
     "data": {
      "text/plain": [
       "DecisionTreeRegressor(max_depth=10, max_features='auto', min_samples_leaf=4,\n",
       "                      min_samples_split=10)"
      ]
     },
     "execution_count": 130,
     "metadata": {},
     "output_type": "execute_result"
    }
   ],
   "source": [
    "rand_search.best_estimator_"
   ]
  },
  {
   "cell_type": "code",
   "execution_count": 131,
   "id": "be18f5dc",
   "metadata": {},
   "outputs": [
    {
     "data": {
      "text/plain": [
       "0.6800869799233551"
      ]
     },
     "execution_count": 131,
     "metadata": {},
     "output_type": "execute_result"
    }
   ],
   "source": [
    "rand_search.best_score_"
   ]
  },
  {
   "cell_type": "code",
   "execution_count": 132,
   "id": "765e2faf",
   "metadata": {},
   "outputs": [
    {
     "data": {
      "text/plain": [
       "DecisionTreeRegressor(max_depth=10, max_features='auto', min_samples_leaf=4,\n",
       "                      min_samples_split=10)"
      ]
     },
     "execution_count": 132,
     "metadata": {},
     "output_type": "execute_result"
    }
   ],
   "source": [
    "dt = DecisionTreeRegressor(max_depth=10, max_features='auto', min_samples_leaf=4,\n",
    "                      min_samples_split=10)\n",
    "dt.fit(Train_X, y_train)"
   ]
  },
  {
   "cell_type": "code",
   "execution_count": 138,
   "id": "29be064f",
   "metadata": {},
   "outputs": [],
   "source": [
    "#making predictions on training data\n",
    "y_tr_pred = dt.predict(Train_X)"
   ]
  },
  {
   "cell_type": "code",
   "execution_count": 139,
   "id": "76edd4c7",
   "metadata": {},
   "outputs": [],
   "source": [
    "#making predictions on test data\n",
    "y_te_pred = dt.predict(Test_X)"
   ]
  },
  {
   "cell_type": "code",
   "execution_count": 140,
   "id": "141c823e",
   "metadata": {},
   "outputs": [
    {
     "name": "stdout",
     "output_type": "stream",
     "text": [
      "train r2-score:0.7124210747153785\n"
     ]
    }
   ],
   "source": [
    "print(f\"train r2-score:{r2_score(y_train, y_tr_pred)}\")"
   ]
  },
  {
   "cell_type": "code",
   "execution_count": 141,
   "id": "6f068977",
   "metadata": {},
   "outputs": [
    {
     "name": "stdout",
     "output_type": "stream",
     "text": [
      "test r2-score:0.8059228652012268\n"
     ]
    }
   ],
   "source": [
    "print(f\"test r2-score:{r2_score(y_test, y_te_pred)}\")"
   ]
  },
  {
   "cell_type": "code",
   "execution_count": 142,
   "id": "7c16820e",
   "metadata": {},
   "outputs": [],
   "source": [
    "dump(dt,open(\"dt_model.pkl\", \"wb\"))\n"
   ]
  },
  {
   "cell_type": "markdown",
   "id": "d8f1120b",
   "metadata": {},
   "source": [
    "# Classification"
   ]
  },
  {
   "cell_type": "code",
   "execution_count": 150,
   "id": "798f8b52",
   "metadata": {},
   "outputs": [
    {
     "data": {
      "text/plain": [
       "(181620, 11)"
      ]
     },
     "execution_count": 150,
     "metadata": {},
     "output_type": "execute_result"
    }
   ],
   "source": [
    "df.shape"
   ]
  },
  {
   "cell_type": "code",
   "execution_count": 158,
   "id": "19f20db8",
   "metadata": {},
   "outputs": [
    {
     "data": {
      "text/plain": [
       "array(['Won', 'Draft', 'To be approved', 'Lost', 'Not lost for AM',\n",
       "       'Wonderful', 'Revised', 'Offered', 'Offerable'], dtype=object)"
      ]
     },
     "execution_count": 158,
     "metadata": {},
     "output_type": "execute_result"
    }
   ],
   "source": [
    "df[\"status\"].unique()"
   ]
  },
  {
   "cell_type": "markdown",
   "id": "5edbf1f7",
   "metadata": {},
   "source": [
    "**Keeping only Won and Lost status**"
   ]
  },
  {
   "cell_type": "code",
   "execution_count": 163,
   "id": "72b8f619",
   "metadata": {},
   "outputs": [],
   "source": [
    "df = df[(df['status'] == \"Won\") | (df[\"status\"] == \"Lost\")]"
   ]
  },
  {
   "cell_type": "code",
   "execution_count": 164,
   "id": "1c1e7f67",
   "metadata": {},
   "outputs": [
    {
     "data": {
      "text/plain": [
       "(150427, 11)"
      ]
     },
     "execution_count": 164,
     "metadata": {},
     "output_type": "execute_result"
    }
   ],
   "source": [
    "df.shape"
   ]
  },
  {
   "cell_type": "code",
   "execution_count": 169,
   "id": "04fa2645",
   "metadata": {},
   "outputs": [
    {
     "data": {
      "text/plain": [
       "status\n",
       "Lost     34431\n",
       "Won     115996\n",
       "Name: id, dtype: int64"
      ]
     },
     "execution_count": 169,
     "metadata": {},
     "output_type": "execute_result"
    }
   ],
   "source": [
    "df.groupby(by = \"status\").count()['id']"
   ]
  },
  {
   "cell_type": "markdown",
   "id": "8d2853f7",
   "metadata": {},
   "source": [
    "**we have 34431 rows of Lost and 115996 rows of Won**"
   ]
  },
  {
   "cell_type": "code",
   "execution_count": 172,
   "id": "0f4dfe82",
   "metadata": {},
   "outputs": [
    {
     "data": {
      "text/html": [
       "<div>\n",
       "<style scoped>\n",
       "    .dataframe tbody tr th:only-of-type {\n",
       "        vertical-align: middle;\n",
       "    }\n",
       "\n",
       "    .dataframe tbody tr th {\n",
       "        vertical-align: top;\n",
       "    }\n",
       "\n",
       "    .dataframe thead th {\n",
       "        text-align: right;\n",
       "    }\n",
       "</style>\n",
       "<table border=\"1\" class=\"dataframe\">\n",
       "  <thead>\n",
       "    <tr style=\"text-align: right;\">\n",
       "      <th></th>\n",
       "      <th>id</th>\n",
       "      <th>country</th>\n",
       "      <th>status</th>\n",
       "      <th>item type</th>\n",
       "      <th>application</th>\n",
       "      <th>width</th>\n",
       "      <th>material_ref</th>\n",
       "      <th>product_ref</th>\n",
       "      <th>quantity_tons_box_cox</th>\n",
       "      <th>thickness_box_cox</th>\n",
       "      <th>selling_price_boxcox</th>\n",
       "    </tr>\n",
       "  </thead>\n",
       "  <tbody>\n",
       "    <tr>\n",
       "      <th>0</th>\n",
       "      <td>EC06F063-9DF0-440C-8764-0B0C05A4F6AE</td>\n",
       "      <td>28.0</td>\n",
       "      <td>Won</td>\n",
       "      <td>W</td>\n",
       "      <td>10.0</td>\n",
       "      <td>1500.0</td>\n",
       "      <td>DEQ1 S460MC</td>\n",
       "      <td>1670798778</td>\n",
       "      <td>0.408936</td>\n",
       "      <td>0.316861</td>\n",
       "      <td>0.213644</td>\n",
       "    </tr>\n",
       "    <tr>\n",
       "      <th>1</th>\n",
       "      <td>4E5F4B3D-DDDF-499D-AFDE-A3227EC49425</td>\n",
       "      <td>25.0</td>\n",
       "      <td>Won</td>\n",
       "      <td>W</td>\n",
       "      <td>41.0</td>\n",
       "      <td>1210.0</td>\n",
       "      <td>104991</td>\n",
       "      <td>1668701718</td>\n",
       "      <td>2.282139</td>\n",
       "      <td>-0.729442</td>\n",
       "      <td>0.675986</td>\n",
       "    </tr>\n",
       "    <tr>\n",
       "      <th>2</th>\n",
       "      <td>E140FF1B-2407-4C02-A0DD-780A093B1158</td>\n",
       "      <td>30.0</td>\n",
       "      <td>Won</td>\n",
       "      <td>WI</td>\n",
       "      <td>28.0</td>\n",
       "      <td>952.0</td>\n",
       "      <td>S0380700</td>\n",
       "      <td>628377</td>\n",
       "      <td>1.791441</td>\n",
       "      <td>-1.726431</td>\n",
       "      <td>-0.395350</td>\n",
       "    </tr>\n",
       "    <tr>\n",
       "      <th>3</th>\n",
       "      <td>F8D507A0-9C62-4EFE-831E-33E1DA53BB50</td>\n",
       "      <td>32.0</td>\n",
       "      <td>Won</td>\n",
       "      <td>S</td>\n",
       "      <td>59.0</td>\n",
       "      <td>1317.0</td>\n",
       "      <td>DX51D+ZM310MAO 2.3X1317</td>\n",
       "      <td>1668701718</td>\n",
       "      <td>1.333757</td>\n",
       "      <td>0.460845</td>\n",
       "      <td>-0.019841</td>\n",
       "    </tr>\n",
       "    <tr>\n",
       "      <th>4</th>\n",
       "      <td>4E1C4E78-152B-430A-8094-ADD889C9D0AD</td>\n",
       "      <td>28.0</td>\n",
       "      <td>Won</td>\n",
       "      <td>W</td>\n",
       "      <td>10.0</td>\n",
       "      <td>2000.0</td>\n",
       "      <td>2_S275JR+AR-CL1</td>\n",
       "      <td>640665</td>\n",
       "      <td>2.298278</td>\n",
       "      <td>0.994387</td>\n",
       "      <td>-0.624732</td>\n",
       "    </tr>\n",
       "  </tbody>\n",
       "</table>\n",
       "</div>"
      ],
      "text/plain": [
       "                                     id  country status item type  \\\n",
       "0  EC06F063-9DF0-440C-8764-0B0C05A4F6AE     28.0    Won         W   \n",
       "1  4E5F4B3D-DDDF-499D-AFDE-A3227EC49425     25.0    Won         W   \n",
       "2  E140FF1B-2407-4C02-A0DD-780A093B1158     30.0    Won        WI   \n",
       "3  F8D507A0-9C62-4EFE-831E-33E1DA53BB50     32.0    Won         S   \n",
       "4  4E1C4E78-152B-430A-8094-ADD889C9D0AD     28.0    Won         W   \n",
       "\n",
       "   application   width             material_ref  product_ref  \\\n",
       "0         10.0  1500.0              DEQ1 S460MC   1670798778   \n",
       "1         41.0  1210.0                   104991   1668701718   \n",
       "2         28.0   952.0                 S0380700       628377   \n",
       "3         59.0  1317.0  DX51D+ZM310MAO 2.3X1317   1668701718   \n",
       "4         10.0  2000.0          2_S275JR+AR-CL1       640665   \n",
       "\n",
       "   quantity_tons_box_cox  thickness_box_cox  selling_price_boxcox  \n",
       "0               0.408936           0.316861              0.213644  \n",
       "1               2.282139          -0.729442              0.675986  \n",
       "2               1.791441          -1.726431             -0.395350  \n",
       "3               1.333757           0.460845             -0.019841  \n",
       "4               2.298278           0.994387             -0.624732  "
      ]
     },
     "execution_count": 172,
     "metadata": {},
     "output_type": "execute_result"
    }
   ],
   "source": [
    "df.head()"
   ]
  },
  {
   "cell_type": "markdown",
   "id": "423255d5",
   "metadata": {},
   "source": [
    "**We will drop id**"
   ]
  },
  {
   "cell_type": "code",
   "execution_count": 175,
   "id": "a29c05fe",
   "metadata": {},
   "outputs": [
    {
     "name": "stderr",
     "output_type": "stream",
     "text": [
      "C:\\Users\\anike\\.conda\\envs\\tf_test\\lib\\site-packages\\pandas\\core\\frame.py:4174: SettingWithCopyWarning: \n",
      "A value is trying to be set on a copy of a slice from a DataFrame\n",
      "\n",
      "See the caveats in the documentation: https://pandas.pydata.org/pandas-docs/stable/user_guide/indexing.html#returning-a-view-versus-a-copy\n",
      "  errors=errors,\n"
     ]
    }
   ],
   "source": [
    "df.drop(['id'], axis = 1, inplace = True)"
   ]
  },
  {
   "cell_type": "code",
   "execution_count": 177,
   "id": "813084ed",
   "metadata": {},
   "outputs": [],
   "source": [
    "from sklearn.model_selection import train_test_split\n",
    "X=df.drop([\"status\"], axis = 1)\n",
    "y=df['status']\n",
    "X_train, X_test, y_train, y_test = train_test_split(X, y, test_size=0.3, random_state=42, stratify = y)"
   ]
  },
  {
   "cell_type": "code",
   "execution_count": 178,
   "id": "ba7b842b",
   "metadata": {},
   "outputs": [],
   "source": [
    "from sklearn.preprocessing import LabelEncoder\n",
    "le = LabelEncoder()\n",
    "le.fit(y_train)\n",
    "y_train_enc = le.transform(y_train)\n",
    "y_test_enc = le.transform(y_test)"
   ]
  },
  {
   "cell_type": "code",
   "execution_count": 212,
   "id": "10f06080",
   "metadata": {},
   "outputs": [],
   "source": [
    "dump(le, open(\"le.pkl\", \"wb\"))"
   ]
  },
  {
   "cell_type": "code",
   "execution_count": 179,
   "id": "990196d9",
   "metadata": {},
   "outputs": [
    {
     "data": {
      "text/plain": [
       "array([1, 1, 1, ..., 1, 1, 1])"
      ]
     },
     "execution_count": 179,
     "metadata": {},
     "output_type": "execute_result"
    }
   ],
   "source": [
    "y_train_enc"
   ]
  },
  {
   "cell_type": "code",
   "execution_count": 180,
   "id": "0b8c3213",
   "metadata": {},
   "outputs": [
    {
     "data": {
      "text/plain": [
       "array([1, 1, 0, ..., 1, 0, 1])"
      ]
     },
     "execution_count": 180,
     "metadata": {},
     "output_type": "execute_result"
    }
   ],
   "source": [
    "y_test_enc"
   ]
  },
  {
   "cell_type": "code",
   "execution_count": 181,
   "id": "0ebb8757",
   "metadata": {},
   "outputs": [
    {
     "data": {
      "text/html": [
       "<div>\n",
       "<style scoped>\n",
       "    .dataframe tbody tr th:only-of-type {\n",
       "        vertical-align: middle;\n",
       "    }\n",
       "\n",
       "    .dataframe tbody tr th {\n",
       "        vertical-align: top;\n",
       "    }\n",
       "\n",
       "    .dataframe thead th {\n",
       "        text-align: right;\n",
       "    }\n",
       "</style>\n",
       "<table border=\"1\" class=\"dataframe\">\n",
       "  <thead>\n",
       "    <tr style=\"text-align: right;\">\n",
       "      <th></th>\n",
       "      <th>country</th>\n",
       "      <th>item type</th>\n",
       "      <th>application</th>\n",
       "      <th>width</th>\n",
       "      <th>material_ref</th>\n",
       "      <th>product_ref</th>\n",
       "      <th>quantity_tons_box_cox</th>\n",
       "      <th>thickness_box_cox</th>\n",
       "      <th>selling_price_boxcox</th>\n",
       "    </tr>\n",
       "  </thead>\n",
       "  <tbody>\n",
       "    <tr>\n",
       "      <th>0</th>\n",
       "      <td>28.0</td>\n",
       "      <td>W</td>\n",
       "      <td>10.0</td>\n",
       "      <td>1500.0</td>\n",
       "      <td>DEQ1 S460MC</td>\n",
       "      <td>1670798778</td>\n",
       "      <td>0.408936</td>\n",
       "      <td>0.316861</td>\n",
       "      <td>0.213644</td>\n",
       "    </tr>\n",
       "    <tr>\n",
       "      <th>1</th>\n",
       "      <td>25.0</td>\n",
       "      <td>W</td>\n",
       "      <td>41.0</td>\n",
       "      <td>1210.0</td>\n",
       "      <td>104991</td>\n",
       "      <td>1668701718</td>\n",
       "      <td>2.282139</td>\n",
       "      <td>-0.729442</td>\n",
       "      <td>0.675986</td>\n",
       "    </tr>\n",
       "    <tr>\n",
       "      <th>2</th>\n",
       "      <td>30.0</td>\n",
       "      <td>WI</td>\n",
       "      <td>28.0</td>\n",
       "      <td>952.0</td>\n",
       "      <td>S0380700</td>\n",
       "      <td>628377</td>\n",
       "      <td>1.791441</td>\n",
       "      <td>-1.726431</td>\n",
       "      <td>-0.395350</td>\n",
       "    </tr>\n",
       "    <tr>\n",
       "      <th>3</th>\n",
       "      <td>32.0</td>\n",
       "      <td>S</td>\n",
       "      <td>59.0</td>\n",
       "      <td>1317.0</td>\n",
       "      <td>DX51D+ZM310MAO 2.3X1317</td>\n",
       "      <td>1668701718</td>\n",
       "      <td>1.333757</td>\n",
       "      <td>0.460845</td>\n",
       "      <td>-0.019841</td>\n",
       "    </tr>\n",
       "    <tr>\n",
       "      <th>4</th>\n",
       "      <td>28.0</td>\n",
       "      <td>W</td>\n",
       "      <td>10.0</td>\n",
       "      <td>2000.0</td>\n",
       "      <td>2_S275JR+AR-CL1</td>\n",
       "      <td>640665</td>\n",
       "      <td>2.298278</td>\n",
       "      <td>0.994387</td>\n",
       "      <td>-0.624732</td>\n",
       "    </tr>\n",
       "    <tr>\n",
       "      <th>...</th>\n",
       "      <td>...</td>\n",
       "      <td>...</td>\n",
       "      <td>...</td>\n",
       "      <td>...</td>\n",
       "      <td>...</td>\n",
       "      <td>...</td>\n",
       "      <td>...</td>\n",
       "      <td>...</td>\n",
       "      <td>...</td>\n",
       "    </tr>\n",
       "    <tr>\n",
       "      <th>181667</th>\n",
       "      <td>25.0</td>\n",
       "      <td>W</td>\n",
       "      <td>41.0</td>\n",
       "      <td>1240.0</td>\n",
       "      <td>1000222</td>\n",
       "      <td>164141591</td>\n",
       "      <td>0.883617</td>\n",
       "      <td>-0.506288</td>\n",
       "      <td>-0.537178</td>\n",
       "    </tr>\n",
       "    <tr>\n",
       "      <th>181668</th>\n",
       "      <td>25.0</td>\n",
       "      <td>W</td>\n",
       "      <td>41.0</td>\n",
       "      <td>1220.0</td>\n",
       "      <td>1000777</td>\n",
       "      <td>164141591</td>\n",
       "      <td>0.854783</td>\n",
       "      <td>-0.506288</td>\n",
       "      <td>-0.575336</td>\n",
       "    </tr>\n",
       "    <tr>\n",
       "      <th>181669</th>\n",
       "      <td>25.0</td>\n",
       "      <td>W</td>\n",
       "      <td>41.0</td>\n",
       "      <td>1500.0</td>\n",
       "      <td>1000227</td>\n",
       "      <td>164141591</td>\n",
       "      <td>1.353290</td>\n",
       "      <td>-0.518893</td>\n",
       "      <td>-0.582335</td>\n",
       "    </tr>\n",
       "    <tr>\n",
       "      <th>181670</th>\n",
       "      <td>25.0</td>\n",
       "      <td>W</td>\n",
       "      <td>41.0</td>\n",
       "      <td>1250.0</td>\n",
       "      <td>1004216</td>\n",
       "      <td>164141591</td>\n",
       "      <td>-1.342749</td>\n",
       "      <td>-0.879817</td>\n",
       "      <td>-0.479289</td>\n",
       "    </tr>\n",
       "    <tr>\n",
       "      <th>181672</th>\n",
       "      <td>25.0</td>\n",
       "      <td>W</td>\n",
       "      <td>41.0</td>\n",
       "      <td>1240.0</td>\n",
       "      <td>1005439</td>\n",
       "      <td>164141591</td>\n",
       "      <td>1.828335</td>\n",
       "      <td>-0.879817</td>\n",
       "      <td>-0.520018</td>\n",
       "    </tr>\n",
       "  </tbody>\n",
       "</table>\n",
       "<p>150427 rows × 9 columns</p>\n",
       "</div>"
      ],
      "text/plain": [
       "        country item type  application   width             material_ref  \\\n",
       "0          28.0         W         10.0  1500.0              DEQ1 S460MC   \n",
       "1          25.0         W         41.0  1210.0                   104991   \n",
       "2          30.0        WI         28.0   952.0                 S0380700   \n",
       "3          32.0         S         59.0  1317.0  DX51D+ZM310MAO 2.3X1317   \n",
       "4          28.0         W         10.0  2000.0          2_S275JR+AR-CL1   \n",
       "...         ...       ...          ...     ...                      ...   \n",
       "181667     25.0         W         41.0  1240.0                  1000222   \n",
       "181668     25.0         W         41.0  1220.0                  1000777   \n",
       "181669     25.0         W         41.0  1500.0                  1000227   \n",
       "181670     25.0         W         41.0  1250.0                  1004216   \n",
       "181672     25.0         W         41.0  1240.0                  1005439   \n",
       "\n",
       "        product_ref  quantity_tons_box_cox  thickness_box_cox  \\\n",
       "0        1670798778               0.408936           0.316861   \n",
       "1        1668701718               2.282139          -0.729442   \n",
       "2            628377               1.791441          -1.726431   \n",
       "3        1668701718               1.333757           0.460845   \n",
       "4            640665               2.298278           0.994387   \n",
       "...             ...                    ...                ...   \n",
       "181667    164141591               0.883617          -0.506288   \n",
       "181668    164141591               0.854783          -0.506288   \n",
       "181669    164141591               1.353290          -0.518893   \n",
       "181670    164141591              -1.342749          -0.879817   \n",
       "181672    164141591               1.828335          -0.879817   \n",
       "\n",
       "        selling_price_boxcox  \n",
       "0                   0.213644  \n",
       "1                   0.675986  \n",
       "2                  -0.395350  \n",
       "3                  -0.019841  \n",
       "4                  -0.624732  \n",
       "...                      ...  \n",
       "181667             -0.537178  \n",
       "181668             -0.575336  \n",
       "181669             -0.582335  \n",
       "181670             -0.479289  \n",
       "181672             -0.520018  \n",
       "\n",
       "[150427 rows x 9 columns]"
      ]
     },
     "execution_count": 181,
     "metadata": {},
     "output_type": "execute_result"
    }
   ],
   "source": [
    "X"
   ]
  },
  {
   "cell_type": "markdown",
   "id": "cc11ea20",
   "metadata": {},
   "source": [
    "# OHE Categorical columns"
   ]
  },
  {
   "cell_type": "code",
   "execution_count": 182,
   "id": "2b0c68da",
   "metadata": {},
   "outputs": [
    {
     "name": "stdout",
     "output_type": "stream",
     "text": [
      "(105298, 17)\n",
      "(45129, 17)\n",
      "(105298, 6)\n",
      "(45129, 6)\n",
      "(105298, 30)\n",
      "(45129, 30)\n",
      "(105298, 14193)\n",
      "(45129, 14193)\n",
      "(105298, 32)\n",
      "(45129, 32)\n"
     ]
    }
   ],
   "source": [
    "from sklearn.preprocessing import StandardScaler, OneHotEncoder\n",
    "# OHE country\n",
    "ohe_country = OneHotEncoder(handle_unknown='ignore')\n",
    "ohe_country.fit(X_train[['country']])\n",
    "dump(ohe_country,open(\"ohe_country2.pkl\", \"wb\"))\n",
    "ohe_country = load(open('ohe_country2.pkl', 'rb'))\n",
    "ohe_tr_country = ohe_country.transform(X_train[['country']])\n",
    "ohe_te_country = ohe_country.transform(X_test[['country']])\n",
    "print(ohe_tr_country.shape)\n",
    "print(ohe_te_country.shape)\n",
    "\n",
    "# OHE item type\n",
    "from sklearn.preprocessing import StandardScaler, OneHotEncoder\n",
    "ohe_item = OneHotEncoder(handle_unknown='ignore')\n",
    "ohe_item.fit(X_train[['item type']])\n",
    "dump(ohe_item,open(\"ohe_item2.pkl\", \"wb\"))\n",
    "ohe_item = load(open('ohe_item2.pkl', 'rb'))\n",
    "ohe_tr_item = ohe_item.transform(X_train[['item type']])\n",
    "ohe_te_item = ohe_item.transform(X_test[['item type']])\n",
    "print(ohe_tr_item.shape)\n",
    "print(ohe_te_item.shape)\n",
    "\n",
    "# OHE application\n",
    "from sklearn.preprocessing import StandardScaler, OneHotEncoder\n",
    "ohe_app = OneHotEncoder(handle_unknown='ignore')\n",
    "ohe_app.fit(X_train[['application']])\n",
    "dump(ohe_app,open(\"ohe_app2.pkl\", \"wb\"))\n",
    "ohe_app = load(open('ohe_app2.pkl', 'rb'))\n",
    "ohe_tr_app = ohe_app.transform(X_train[['application']])\n",
    "ohe_te_app = ohe_app.transform(X_test[['application']])\n",
    "print(ohe_tr_app.shape)\n",
    "print(ohe_te_app.shape)\n",
    "\n",
    "# material ref\n",
    "from sklearn.preprocessing import StandardScaler, OneHotEncoder\n",
    "ohe_mat = OneHotEncoder(handle_unknown='ignore')\n",
    "ohe_mat.fit(X_train[['material_ref']])\n",
    "dump(ohe_mat,open(\"ohe_mat2.pkl\", \"wb\"))\n",
    "ohe_mat = load(open('ohe_mat2.pkl', 'rb'))\n",
    "ohe_tr_mat = ohe_mat.transform(X_train[['material_ref']])\n",
    "ohe_te_mat = ohe_mat.transform(X_test[['material_ref']])\n",
    "print(ohe_tr_mat.shape)\n",
    "print(ohe_te_mat.shape)\n",
    "\n",
    "# product ref\n",
    "from sklearn.preprocessing import StandardScaler, OneHotEncoder\n",
    "ohe_pro = OneHotEncoder(handle_unknown='ignore')\n",
    "ohe_pro.fit(X_train[['product_ref']])\n",
    "dump(ohe_pro,open(\"ohe_pro2.pkl\", \"wb\"))\n",
    "ohe_pro = load(open('ohe_pro2.pkl', 'rb'))\n",
    "ohe_tr_pro = ohe_pro.transform(X_train[['product_ref']])\n",
    "ohe_te_pro = ohe_pro.transform(X_test[['product_ref']])\n",
    "print(ohe_tr_pro.shape)\n",
    "print(ohe_te_pro.shape)"
   ]
  },
  {
   "cell_type": "code",
   "execution_count": 184,
   "id": "e24a4647",
   "metadata": {},
   "outputs": [],
   "source": [
    "from scipy.sparse import hstack\n",
    "Train_X = hstack((X_train[['width', 'quantity_tons_box_cox', 'thickness_box_cox', \"selling_price_boxcox\"]].values, \n",
    "                  ohe_tr_country, ohe_tr_item, ohe_tr_app, ohe_tr_mat, ohe_tr_pro))\n",
    "\n",
    "Test_X = hstack((X_test[['width', 'quantity_tons_box_cox', 'thickness_box_cox', \"selling_price_boxcox\"]].values, \n",
    "                 ohe_te_country, ohe_te_item, ohe_te_app, ohe_te_mat, ohe_te_pro))"
   ]
  },
  {
   "cell_type": "code",
   "execution_count": 185,
   "id": "54e90410",
   "metadata": {},
   "outputs": [
    {
     "name": "stdout",
     "output_type": "stream",
     "text": [
      "(105298, 14282)\n",
      "(45129, 14282)\n"
     ]
    }
   ],
   "source": [
    "print(Train_X.shape)\n",
    "print(Test_X.shape)"
   ]
  },
  {
   "cell_type": "code",
   "execution_count": 195,
   "id": "bf92f1a0",
   "metadata": {},
   "outputs": [
    {
     "data": {
      "text/plain": [
       "RandomizedSearchCV(cv=4, estimator=DecisionTreeClassifier(),\n",
       "                   param_distributions={'max_depth': [2, 5, 10, 20],\n",
       "                                        'max_features': ['auto', 'sqrt',\n",
       "                                                         'log2'],\n",
       "                                        'min_samples_leaf': [1, 2, 4],\n",
       "                                        'min_samples_split': [2, 5, 10]},\n",
       "                   scoring='f1_weighted')"
      ]
     },
     "execution_count": 195,
     "metadata": {},
     "output_type": "execute_result"
    }
   ],
   "source": [
    "from sklearn.tree import DecisionTreeClassifier\n",
    "from sklearn.metrics import mean_squared_error, r2_score\n",
    "from sklearn.model_selection import GridSearchCV, RandomizedSearchCV\n",
    "\n",
    "# decision tree\n",
    "dtr = DecisionTreeClassifier()\n",
    "# hyperparameters\n",
    "param_grid = {'max_depth': [2, 5, 10, 20],\n",
    "              'min_samples_split': [2, 5, 10],\n",
    "              'min_samples_leaf': [1, 2, 4],\n",
    "              'max_features': ['auto', 'sqrt', 'log2']}\n",
    "# gridsearchcv\n",
    "rand_search = RandomizedSearchCV(estimator=dtr, param_distributions=param_grid, cv=4, scoring = \"f1_weighted\")\n",
    "rand_search.fit(Train_X, y_train_enc)\n"
   ]
  },
  {
   "cell_type": "code",
   "execution_count": 196,
   "id": "8cf417fb",
   "metadata": {},
   "outputs": [
    {
     "data": {
      "text/plain": [
       "DecisionTreeClassifier(max_depth=20, max_features='auto', min_samples_leaf=2,\n",
       "                       min_samples_split=5)"
      ]
     },
     "execution_count": 196,
     "metadata": {},
     "output_type": "execute_result"
    }
   ],
   "source": [
    "rand_search.best_estimator_"
   ]
  },
  {
   "cell_type": "code",
   "execution_count": 197,
   "id": "fbf96fc4",
   "metadata": {},
   "outputs": [
    {
     "data": {
      "text/plain": [
       "0.7200253503853132"
      ]
     },
     "execution_count": 197,
     "metadata": {},
     "output_type": "execute_result"
    }
   ],
   "source": [
    "rand_search.best_score_"
   ]
  },
  {
   "cell_type": "code",
   "execution_count": 198,
   "id": "8d02a232",
   "metadata": {},
   "outputs": [
    {
     "data": {
      "text/plain": [
       "DecisionTreeClassifier(max_depth=20, max_features='auto', min_samples_leaf=2,\n",
       "                       min_samples_split=5)"
      ]
     },
     "execution_count": 198,
     "metadata": {},
     "output_type": "execute_result"
    }
   ],
   "source": [
    "dt2 = DecisionTreeClassifier(max_depth=20, max_features='auto', min_samples_leaf=2,\n",
    "                       min_samples_split=5)\n",
    "dt2.fit(Train_X, y_train_enc)"
   ]
  },
  {
   "cell_type": "code",
   "execution_count": 199,
   "id": "16b5a062",
   "metadata": {},
   "outputs": [],
   "source": [
    "#making predictions on training data\n",
    "y_tr_pred = dt2.predict(Train_X)\n",
    "#making predictions on test data\n",
    "y_te_pred = dt2.predict(Test_X)"
   ]
  },
  {
   "cell_type": "code",
   "execution_count": 200,
   "id": "7bda161e",
   "metadata": {},
   "outputs": [
    {
     "name": "stdout",
     "output_type": "stream",
     "text": [
      "Train f1 score : 0.8627853710039406\n",
      "Train f1 score : 0.8598332568869222\n"
     ]
    }
   ],
   "source": [
    "from sklearn.metrics import f1_score\n",
    "print(f\"Train f1 score : {f1_score(y_train_enc, y_tr_pred)}\")\n",
    "print(f\"Train f1 score : {f1_score(y_test_enc, y_te_pred)}\")"
   ]
  },
  {
   "cell_type": "code",
   "execution_count": 211,
   "id": "39fd04a5",
   "metadata": {},
   "outputs": [],
   "source": [
    "dump(dt2, open(\"dt2.pkl\", \"wb\"))"
   ]
  },
  {
   "cell_type": "code",
   "execution_count": 203,
   "id": "9443cf86",
   "metadata": {},
   "outputs": [
    {
     "data": {
      "text/plain": [
       "array(['Lost'], dtype=object)"
      ]
     },
     "execution_count": 203,
     "metadata": {},
     "output_type": "execute_result"
    }
   ],
   "source": [
    "le.inverse_transform(np.array(0).reshape(1,1))"
   ]
  },
  {
   "cell_type": "code",
   "execution_count": 204,
   "id": "e3a7ae48",
   "metadata": {},
   "outputs": [
    {
     "data": {
      "text/html": [
       "<div>\n",
       "<style scoped>\n",
       "    .dataframe tbody tr th:only-of-type {\n",
       "        vertical-align: middle;\n",
       "    }\n",
       "\n",
       "    .dataframe tbody tr th {\n",
       "        vertical-align: top;\n",
       "    }\n",
       "\n",
       "    .dataframe thead th {\n",
       "        text-align: right;\n",
       "    }\n",
       "</style>\n",
       "<table border=\"1\" class=\"dataframe\">\n",
       "  <thead>\n",
       "    <tr style=\"text-align: right;\">\n",
       "      <th></th>\n",
       "      <th>country</th>\n",
       "      <th>item type</th>\n",
       "      <th>application</th>\n",
       "      <th>width</th>\n",
       "      <th>material_ref</th>\n",
       "      <th>product_ref</th>\n",
       "      <th>quantity_tons_box_cox</th>\n",
       "      <th>thickness_box_cox</th>\n",
       "      <th>selling_price_boxcox</th>\n",
       "    </tr>\n",
       "  </thead>\n",
       "  <tbody>\n",
       "    <tr>\n",
       "      <th>130113</th>\n",
       "      <td>30.0</td>\n",
       "      <td>W</td>\n",
       "      <td>10.0</td>\n",
       "      <td>1248.0</td>\n",
       "      <td>.63X1248 HDX G7035 OYSTER</td>\n",
       "      <td>611993</td>\n",
       "      <td>0.029818</td>\n",
       "      <td>-1.033947</td>\n",
       "      <td>0.750249</td>\n",
       "    </tr>\n",
       "    <tr>\n",
       "      <th>7675</th>\n",
       "      <td>28.0</td>\n",
       "      <td>W</td>\n",
       "      <td>59.0</td>\n",
       "      <td>1500.0</td>\n",
       "      <td>DD11</td>\n",
       "      <td>1670798778</td>\n",
       "      <td>0.887668</td>\n",
       "      <td>0.684540</td>\n",
       "      <td>0.270335</td>\n",
       "    </tr>\n",
       "    <tr>\n",
       "      <th>169770</th>\n",
       "      <td>26.0</td>\n",
       "      <td>S</td>\n",
       "      <td>10.0</td>\n",
       "      <td>1070.0</td>\n",
       "      <td>unknown</td>\n",
       "      <td>164141591</td>\n",
       "      <td>-0.068145</td>\n",
       "      <td>-1.653059</td>\n",
       "      <td>-0.135637</td>\n",
       "    </tr>\n",
       "    <tr>\n",
       "      <th>132646</th>\n",
       "      <td>27.0</td>\n",
       "      <td>PL</td>\n",
       "      <td>10.0</td>\n",
       "      <td>1380.0</td>\n",
       "      <td>2180128466F60SES</td>\n",
       "      <td>640665</td>\n",
       "      <td>-0.904809</td>\n",
       "      <td>0.639381</td>\n",
       "      <td>-0.678731</td>\n",
       "    </tr>\n",
       "    <tr>\n",
       "      <th>140860</th>\n",
       "      <td>25.0</td>\n",
       "      <td>S</td>\n",
       "      <td>10.0</td>\n",
       "      <td>1000.0</td>\n",
       "      <td>8300-0100-1501000</td>\n",
       "      <td>1668701376</td>\n",
       "      <td>-0.043194</td>\n",
       "      <td>0.008009</td>\n",
       "      <td>-0.259737</td>\n",
       "    </tr>\n",
       "    <tr>\n",
       "      <th>...</th>\n",
       "      <td>...</td>\n",
       "      <td>...</td>\n",
       "      <td>...</td>\n",
       "      <td>...</td>\n",
       "      <td>...</td>\n",
       "      <td>...</td>\n",
       "      <td>...</td>\n",
       "      <td>...</td>\n",
       "      <td>...</td>\n",
       "    </tr>\n",
       "    <tr>\n",
       "      <th>111060</th>\n",
       "      <td>32.0</td>\n",
       "      <td>W</td>\n",
       "      <td>10.0</td>\n",
       "      <td>961.0</td>\n",
       "      <td>S320GD GRANITEHDX 55µ DF</td>\n",
       "      <td>611993</td>\n",
       "      <td>-0.603505</td>\n",
       "      <td>0.316861</td>\n",
       "      <td>0.581566</td>\n",
       "    </tr>\n",
       "    <tr>\n",
       "      <th>26156</th>\n",
       "      <td>84.0</td>\n",
       "      <td>W</td>\n",
       "      <td>79.0</td>\n",
       "      <td>1238.0</td>\n",
       "      <td>700306</td>\n",
       "      <td>164141591</td>\n",
       "      <td>1.726806</td>\n",
       "      <td>-0.729442</td>\n",
       "      <td>0.597519</td>\n",
       "    </tr>\n",
       "    <tr>\n",
       "      <th>30963</th>\n",
       "      <td>32.0</td>\n",
       "      <td>W</td>\n",
       "      <td>59.0</td>\n",
       "      <td>1479.0</td>\n",
       "      <td>HRCL_S-355 JR CL3 5X1479</td>\n",
       "      <td>640665</td>\n",
       "      <td>0.721822</td>\n",
       "      <td>1.193954</td>\n",
       "      <td>0.011156</td>\n",
       "    </tr>\n",
       "    <tr>\n",
       "      <th>77081</th>\n",
       "      <td>84.0</td>\n",
       "      <td>W</td>\n",
       "      <td>29.0</td>\n",
       "      <td>1250.0</td>\n",
       "      <td>unknown</td>\n",
       "      <td>611993</td>\n",
       "      <td>-0.626819</td>\n",
       "      <td>-1.097878</td>\n",
       "      <td>0.631409</td>\n",
       "    </tr>\n",
       "    <tr>\n",
       "      <th>55732</th>\n",
       "      <td>25.0</td>\n",
       "      <td>W</td>\n",
       "      <td>40.0</td>\n",
       "      <td>1140.0</td>\n",
       "      <td>S355J0</td>\n",
       "      <td>640665</td>\n",
       "      <td>1.491819</td>\n",
       "      <td>1.479123</td>\n",
       "      <td>0.083052</td>\n",
       "    </tr>\n",
       "  </tbody>\n",
       "</table>\n",
       "<p>105298 rows × 9 columns</p>\n",
       "</div>"
      ],
      "text/plain": [
       "        country item type  application   width               material_ref  \\\n",
       "130113     30.0         W         10.0  1248.0  .63X1248 HDX G7035 OYSTER   \n",
       "7675       28.0         W         59.0  1500.0                       DD11   \n",
       "169770     26.0         S         10.0  1070.0                    unknown   \n",
       "132646     27.0        PL         10.0  1380.0           2180128466F60SES   \n",
       "140860     25.0         S         10.0  1000.0          8300-0100-1501000   \n",
       "...         ...       ...          ...     ...                        ...   \n",
       "111060     32.0         W         10.0   961.0   S320GD GRANITEHDX 55µ DF   \n",
       "26156      84.0         W         79.0  1238.0                     700306   \n",
       "30963      32.0         W         59.0  1479.0   HRCL_S-355 JR CL3 5X1479   \n",
       "77081      84.0         W         29.0  1250.0                    unknown   \n",
       "55732      25.0         W         40.0  1140.0                     S355J0   \n",
       "\n",
       "        product_ref  quantity_tons_box_cox  thickness_box_cox  \\\n",
       "130113       611993               0.029818          -1.033947   \n",
       "7675     1670798778               0.887668           0.684540   \n",
       "169770    164141591              -0.068145          -1.653059   \n",
       "132646       640665              -0.904809           0.639381   \n",
       "140860   1668701376              -0.043194           0.008009   \n",
       "...             ...                    ...                ...   \n",
       "111060       611993              -0.603505           0.316861   \n",
       "26156     164141591               1.726806          -0.729442   \n",
       "30963        640665               0.721822           1.193954   \n",
       "77081        611993              -0.626819          -1.097878   \n",
       "55732        640665               1.491819           1.479123   \n",
       "\n",
       "        selling_price_boxcox  \n",
       "130113              0.750249  \n",
       "7675                0.270335  \n",
       "169770             -0.135637  \n",
       "132646             -0.678731  \n",
       "140860             -0.259737  \n",
       "...                      ...  \n",
       "111060              0.581566  \n",
       "26156               0.597519  \n",
       "30963               0.011156  \n",
       "77081               0.631409  \n",
       "55732               0.083052  \n",
       "\n",
       "[105298 rows x 9 columns]"
      ]
     },
     "execution_count": 204,
     "metadata": {},
     "output_type": "execute_result"
    }
   ],
   "source": [
    "X_train"
   ]
  },
  {
   "cell_type": "code",
   "execution_count": 208,
   "id": "eeb67772",
   "metadata": {},
   "outputs": [
    {
     "data": {
      "text/plain": [
       "array([[1081.01003912]])"
      ]
     },
     "execution_count": 208,
     "metadata": {},
     "output_type": "execute_result"
    }
   ],
   "source": [
    "pt_sp.inverse_transform(np.array(0.750249).reshape(-1,1))"
   ]
  },
  {
   "cell_type": "code",
   "execution_count": 210,
   "id": "175c5321",
   "metadata": {},
   "outputs": [
    {
     "data": {
      "text/plain": [
       "(105298, 14282)"
      ]
     },
     "execution_count": 210,
     "metadata": {},
     "output_type": "execute_result"
    }
   ],
   "source": [
    "Train_X.shape"
   ]
  },
  {
   "cell_type": "code",
   "execution_count": null,
   "id": "f0b5cc63",
   "metadata": {},
   "outputs": [],
   "source": []
  }
 ],
 "metadata": {
  "kernelspec": {
   "display_name": "tf_test",
   "language": "python",
   "name": "tf_test"
  },
  "language_info": {
   "codemirror_mode": {
    "name": "ipython",
    "version": 3
   },
   "file_extension": ".py",
   "mimetype": "text/x-python",
   "name": "python",
   "nbconvert_exporter": "python",
   "pygments_lexer": "ipython3",
   "version": "3.6.13"
  }
 },
 "nbformat": 4,
 "nbformat_minor": 5
}
