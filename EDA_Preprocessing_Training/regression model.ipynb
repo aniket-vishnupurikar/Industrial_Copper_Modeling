{
 "cells": [
  {
   "cell_type": "code",
   "execution_count": 40,
   "id": "f085e456",
   "metadata": {},
   "outputs": [],
   "source": [
    "import pandas as pd\n",
    "import numpy as np\n",
    "from pickle import dump, load\n",
    "from scipy.sparse import hstack"
   ]
  },
  {
   "cell_type": "code",
   "execution_count": 31,
   "id": "51b8f507",
   "metadata": {},
   "outputs": [],
   "source": [
    "quantity_tons = 54.1511\n",
    "country = 28.0\n",
    "status = \"Won\"\n",
    "item_type = \"W\"\n",
    "application = 10\n",
    "thickness = 2\n",
    "width = 1500\n",
    "material_ref = \"S0380700\"\n",
    "product_ref = 1668701718"
   ]
  },
  {
   "cell_type": "code",
   "execution_count": 54,
   "id": "58fb9b5a",
   "metadata": {},
   "outputs": [],
   "source": [
    "def load_and_transform(quantity_tons, country, status, item_type, application, thickness, width, material_ref, product_ref):\n",
    "    pt_qty = load(open('pt_qty.pkl', 'rb'))\n",
    "    quantity_tons_2 = pt_qty.transform(np.array(quantity_tons).reshape(-1,1))[0][0]\n",
    "    pt_thickness = load(open('pt_thickness.pkl', 'rb'))\n",
    "    thickness_2 = pt_thickness.transform(np.array(thickness).reshape(-1,1))[0][0]\n",
    "    pt_sp = load(open('pt_sp.pkl', 'rb')) ## to be used to inverse transform the final prediction\n",
    "    ohe_country = load(open('ohe_country.pkl', 'rb'))\n",
    "    country_2 = ohe_country.transform(np.array(country).reshape(-1,1))\n",
    "    ohe_status = load(open('ohe_status.pkl', 'rb'))\n",
    "    status_2 = ohe_status.transform(np.array(status).reshape(-1,1))\n",
    "    ohe_item = load(open('ohe_item.pkl', 'rb'))\n",
    "    item_type_2 = ohe_item.transform(np.array(item_type).reshape(-1,1))\n",
    "    ohe_app = load(open('ohe_app.pkl', 'rb'))\n",
    "    application_2 = ohe_app.transform(np.array(application).reshape(-1,1))\n",
    "    ohe_mat = load(open('ohe_mat.pkl', 'rb'))\n",
    "    material_ref_2 = ohe_mat.transform(np.array(material_ref).reshape(-1,1))\n",
    "    ohe_pro = load(open('ohe_pro.pkl', 'rb'))\n",
    "    product_ref_2 = ohe_pro.transform(np.array(product_ref).reshape(-1,1))\n",
    "    X = hstack((np.array([width, quantity_tons_2, thickness_2]), country_2, status_2, item_type_2, application_2, material_ref_2,\n",
    "          product_ref_2))\n",
    "    return X\n",
    "    \n",
    "    \n",
    "    "
   ]
  },
  {
   "cell_type": "code",
   "execution_count": 55,
   "id": "9dbeccf4",
   "metadata": {},
   "outputs": [],
   "source": [
    "X2 = load_and_transform(quantity_tons, country, status, item_type, application, thickness, width, material_ref, product_ref)"
   ]
  },
  {
   "cell_type": "code",
   "execution_count": 56,
   "id": "d70e20e0",
   "metadata": {},
   "outputs": [
    {
     "data": {
      "text/plain": [
       "<1x15014 sparse matrix of type '<class 'numpy.float64'>'\n",
       "\twith 9 stored elements in COOrdinate format>"
      ]
     },
     "execution_count": 56,
     "metadata": {},
     "output_type": "execute_result"
    }
   ],
   "source": [
    "X2"
   ]
  },
  {
   "cell_type": "code",
   "execution_count": 59,
   "id": "3fceffc5",
   "metadata": {},
   "outputs": [],
   "source": [
    "def predict(X):\n",
    "    dt = load(open(\"dt_model.pkl\", \"rb\"))\n",
    "    y_hat = dt.predict(X)[0]\n",
    "    pt_sp = load(open('pt_sp.pkl', 'rb'))\n",
    "    sp = pt_sp.inverse_transform(np.array(y_hat).reshape(-1,1))[0][0]\n",
    "    return round(sp,2)\n"
   ]
  },
  {
   "cell_type": "code",
   "execution_count": 60,
   "id": "045e23ef",
   "metadata": {},
   "outputs": [
    {
     "data": {
      "text/plain": [
       "940.96"
      ]
     },
     "execution_count": 60,
     "metadata": {},
     "output_type": "execute_result"
    }
   ],
   "source": [
    "predict(X)"
   ]
  },
  {
   "cell_type": "code",
   "execution_count": null,
   "id": "d1408dd8",
   "metadata": {},
   "outputs": [],
   "source": []
  }
 ],
 "metadata": {
  "kernelspec": {
   "display_name": "tf_test",
   "language": "python",
   "name": "tf_test"
  },
  "language_info": {
   "codemirror_mode": {
    "name": "ipython",
    "version": 3
   },
   "file_extension": ".py",
   "mimetype": "text/x-python",
   "name": "python",
   "nbconvert_exporter": "python",
   "pygments_lexer": "ipython3",
   "version": "3.6.13"
  }
 },
 "nbformat": 4,
 "nbformat_minor": 5
}
