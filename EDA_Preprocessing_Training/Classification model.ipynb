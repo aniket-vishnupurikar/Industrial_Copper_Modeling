{
 "cells": [
  {
   "cell_type": "code",
   "execution_count": 1,
   "id": "2f8d8a5e",
   "metadata": {},
   "outputs": [],
   "source": [
    "import pandas as pd\n",
    "import numpy as np\n",
    "from pickle import dump, load\n",
    "from scipy.sparse import hstack"
   ]
  },
  {
   "cell_type": "code",
   "execution_count": 2,
   "id": "93f9ae7a",
   "metadata": {},
   "outputs": [],
   "source": [
    "quantity_tons = 54.1511\n",
    "country = 28.0\n",
    "item_type = \"W\"\n",
    "application = 10\n",
    "thickness = 2\n",
    "width = 1500\n",
    "material_ref = \"S0380700\"\n",
    "product_ref = 1668701718\n",
    "selling_price = 1081"
   ]
  },
  {
   "cell_type": "code",
   "execution_count": 3,
   "id": "4cecf608",
   "metadata": {},
   "outputs": [],
   "source": [
    "def load_and_transform(quantity_tons, country, selling_price, item_type, application, thickness, width, material_ref, product_ref):\n",
    "    pt_qty = load(open('pt_qty.pkl', 'rb'))\n",
    "    quantity_tons_2 = pt_qty.transform(np.array(quantity_tons).reshape(-1,1))[0][0]\n",
    "    pt_thickness = load(open('pt_thickness.pkl', 'rb'))\n",
    "    thickness_2 = pt_thickness.transform(np.array(thickness).reshape(-1,1))[0][0]\n",
    "    pt_sp = load(open('pt_sp.pkl', 'rb'))\n",
    "    selling_price_2 = pt_sp.transform(np.array(selling_price).reshape(-1,1))[0][0]\n",
    "    ohe_country = load(open('ohe_country2.pkl', 'rb'))\n",
    "    country_2 = ohe_country.transform(np.array(country).reshape(-1,1))\n",
    "    ohe_item = load(open('ohe_item2.pkl', 'rb'))\n",
    "    item_type_2 = ohe_item.transform(np.array(item_type).reshape(-1,1))\n",
    "    ohe_app = load(open('ohe_app2.pkl', 'rb'))\n",
    "    application_2 = ohe_app.transform(np.array(application).reshape(-1,1))\n",
    "    ohe_mat = load(open('ohe_mat2.pkl', 'rb'))\n",
    "    material_ref_2 = ohe_mat.transform(np.array(material_ref).reshape(-1,1))\n",
    "    ohe_pro = load(open('ohe_pro2.pkl', 'rb'))\n",
    "    product_ref_2 = ohe_pro.transform(np.array(product_ref).reshape(-1,1))\n",
    "    X = hstack((np.array([width, quantity_tons_2, thickness_2]), country_2, selling_price_2, item_type_2, application_2, material_ref_2,\n",
    "          product_ref_2))\n",
    "    return X\n",
    "    \n",
    "    \n",
    "    "
   ]
  },
  {
   "cell_type": "code",
   "execution_count": 4,
   "id": "b8c9e0ef",
   "metadata": {},
   "outputs": [],
   "source": [
    "X2 = load_and_transform(quantity_tons, country, selling_price, item_type, application, thickness, width, material_ref, product_ref)"
   ]
  },
  {
   "cell_type": "code",
   "execution_count": 7,
   "id": "264edec6",
   "metadata": {},
   "outputs": [],
   "source": [
    "def predict(X):\n",
    "    dt = load(open(\"dt2.pkl\", \"rb\"))\n",
    "    y_hat = dt.predict(X)[0]\n",
    "    le = load(open('le.pkl', 'rb'))\n",
    "    status = le.inverse_transform(np.array(y_hat).reshape(1,-1))[0]\n",
    "    return status\n"
   ]
  },
  {
   "cell_type": "code",
   "execution_count": 8,
   "id": "d55ef7cd",
   "metadata": {},
   "outputs": [],
   "source": [
    "y_hat = predict(X2)"
   ]
  },
  {
   "cell_type": "code",
   "execution_count": 9,
   "id": "6fa40692",
   "metadata": {},
   "outputs": [
    {
     "data": {
      "text/plain": [
       "'Won'"
      ]
     },
     "execution_count": 9,
     "metadata": {},
     "output_type": "execute_result"
    }
   ],
   "source": [
    "y_hat"
   ]
  }
 ],
 "metadata": {
  "kernelspec": {
   "display_name": "tf_test",
   "language": "python",
   "name": "tf_test"
  },
  "language_info": {
   "codemirror_mode": {
    "name": "ipython",
    "version": 3
   },
   "file_extension": ".py",
   "mimetype": "text/x-python",
   "name": "python",
   "nbconvert_exporter": "python",
   "pygments_lexer": "ipython3",
   "version": "3.6.13"
  }
 },
 "nbformat": 4,
 "nbformat_minor": 5
}
